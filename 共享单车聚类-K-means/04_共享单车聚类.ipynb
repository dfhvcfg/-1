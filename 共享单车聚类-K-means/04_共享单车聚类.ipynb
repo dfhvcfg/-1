{
 "cells": [
  {
   "cell_type": "code",
   "execution_count": 1,
   "metadata": {
    "collapsed": true,
    "pycharm": {
     "name": "#%%\n"
    },
    "trusted": false
   },
   "outputs": [],
   "source": [
    "import pandas as pd\n",
    "import seaborn as sns\n",
    "import matplotlib.pyplot as plt\n",
    "bike = pd.read_csv('data/mobike.csv',index_col=0)"
   ]
  },
  {
   "cell_type": "code",
   "execution_count": 2,
   "outputs": [
    {
     "name": "stdout",
     "output_type": "stream",
     "text": [
      "<class 'pandas.core.frame.DataFrame'>\n",
      "Int64Index: 6427 entries, 439283 to 278179\n",
      "Data columns (total 14 columns):\n",
      " #   Column             Non-Null Count  Dtype  \n",
      "---  ------             --------------  -----  \n",
      " 0   user_id            6427 non-null   int64  \n",
      " 1   start_time         6427 non-null   object \n",
      " 2   end_time           6427 non-null   object \n",
      " 3   timeduration       6427 non-null   int64  \n",
      " 4   bikeid             6427 non-null   int64  \n",
      " 5   tripduration       6427 non-null   object \n",
      " 6   from_station_id    6427 non-null   int64  \n",
      " 7   from_station_name  6427 non-null   object \n",
      " 8   to_station_id      6427 non-null   int64  \n",
      " 9   to_station_name    6427 non-null   object \n",
      " 10  usertype           6427 non-null   object \n",
      " 11  gender             5938 non-null   object \n",
      " 12  birthyear          5956 non-null   float64\n",
      " 13  age                6427 non-null   object \n",
      "dtypes: float64(1), int64(5), object(8)\n",
      "memory usage: 753.2+ KB\n"
     ]
    }
   ],
   "source": [
    "bike.info()"
   ],
   "metadata": {
    "collapsed": false,
    "pycharm": {
     "name": "#%%\n"
    },
    "trusted": false
   }
  },
  {
   "cell_type": "code",
   "execution_count": 3,
   "outputs": [],
   "source": [
    "# 从info 的结果中返现, 性别和生日有缺失值"
   ],
   "metadata": {
    "collapsed": false,
    "pycharm": {
     "name": "#%%\n"
    },
    "trusted": false
   }
  },
  {
   "cell_type": "code",
   "execution_count": 4,
   "outputs": [
    {
     "data": {
      "text/plain": "            user_id  timeduration       bikeid  from_station_id  \\\ncount  6.427000e+03   6427.000000  6427.000000      6427.000000   \nmean   2.135519e+07     11.778902  3491.637934       195.038432   \nstd    2.181294e+05      9.692236  1912.171846       148.170025   \nmin    2.098358e+07      0.000000     2.000000         2.000000   \n25%    2.116805e+07      5.000000  1852.000000        77.000000   \n50%    2.135114e+07      9.000000  3618.000000       168.000000   \n75%    2.154376e+07     15.000000  5179.500000       287.000000   \nmax    2.174223e+07     59.000000  6470.000000       662.000000   \n\n       to_station_id    birthyear  \ncount    6427.000000  5956.000000  \nmean      198.502567  1982.488583  \nstd       148.939873    11.147859  \nmin         2.000000  1906.000000  \n25%        80.000000  1977.000000  \n50%       172.000000  1986.000000  \n75%       287.000000  1991.000000  \nmax       661.000000  2002.000000  ",
      "text/html": "<div>\n<style scoped>\n    .dataframe tbody tr th:only-of-type {\n        vertical-align: middle;\n    }\n\n    .dataframe tbody tr th {\n        vertical-align: top;\n    }\n\n    .dataframe thead th {\n        text-align: right;\n    }\n</style>\n<table border=\"1\" class=\"dataframe\">\n  <thead>\n    <tr style=\"text-align: right;\">\n      <th></th>\n      <th>user_id</th>\n      <th>timeduration</th>\n      <th>bikeid</th>\n      <th>from_station_id</th>\n      <th>to_station_id</th>\n      <th>birthyear</th>\n    </tr>\n  </thead>\n  <tbody>\n    <tr>\n      <th>count</th>\n      <td>6.427000e+03</td>\n      <td>6427.000000</td>\n      <td>6427.000000</td>\n      <td>6427.000000</td>\n      <td>6427.000000</td>\n      <td>5956.000000</td>\n    </tr>\n    <tr>\n      <th>mean</th>\n      <td>2.135519e+07</td>\n      <td>11.778902</td>\n      <td>3491.637934</td>\n      <td>195.038432</td>\n      <td>198.502567</td>\n      <td>1982.488583</td>\n    </tr>\n    <tr>\n      <th>std</th>\n      <td>2.181294e+05</td>\n      <td>9.692236</td>\n      <td>1912.171846</td>\n      <td>148.170025</td>\n      <td>148.939873</td>\n      <td>11.147859</td>\n    </tr>\n    <tr>\n      <th>min</th>\n      <td>2.098358e+07</td>\n      <td>0.000000</td>\n      <td>2.000000</td>\n      <td>2.000000</td>\n      <td>2.000000</td>\n      <td>1906.000000</td>\n    </tr>\n    <tr>\n      <th>25%</th>\n      <td>2.116805e+07</td>\n      <td>5.000000</td>\n      <td>1852.000000</td>\n      <td>77.000000</td>\n      <td>80.000000</td>\n      <td>1977.000000</td>\n    </tr>\n    <tr>\n      <th>50%</th>\n      <td>2.135114e+07</td>\n      <td>9.000000</td>\n      <td>3618.000000</td>\n      <td>168.000000</td>\n      <td>172.000000</td>\n      <td>1986.000000</td>\n    </tr>\n    <tr>\n      <th>75%</th>\n      <td>2.154376e+07</td>\n      <td>15.000000</td>\n      <td>5179.500000</td>\n      <td>287.000000</td>\n      <td>287.000000</td>\n      <td>1991.000000</td>\n    </tr>\n    <tr>\n      <th>max</th>\n      <td>2.174223e+07</td>\n      <td>59.000000</td>\n      <td>6470.000000</td>\n      <td>662.000000</td>\n      <td>661.000000</td>\n      <td>2002.000000</td>\n    </tr>\n  </tbody>\n</table>\n</div>"
     },
     "execution_count": 4,
     "metadata": {},
     "output_type": "execute_result"
    }
   ],
   "source": [
    "bike.describe()"
   ],
   "metadata": {
    "collapsed": false,
    "pycharm": {
     "name": "#%%\n"
    },
    "trusted": false
   }
  },
  {
   "cell_type": "code",
   "execution_count": 5,
   "outputs": [
    {
     "data": {
      "text/plain": "         user_id        start_time          end_time  timeduration  bikeid  \\\n439283  21499218   11/14/2018 7:37   11/14/2018 7:44             7    2631   \n603317  21694389  12/18/2018 19:02  12/18/2018 19:10             7    1565   \n109957  21110722   10/9/2018 12:37   10/9/2018 12:55            18    2231   \n428082  21485409  11/12/2018 12:30  11/12/2018 12:40             9    4226   \n395437  21445994    11/7/2018 7:29    11/7/2018 7:35             6    3475   \n\n       tripduration  from_station_id              from_station_name  \\\n439283          436              319  Greenview Ave & Diversey Pkwy   \n603317          445              164          Franklin St & Lake St   \n109957        1,090              163       Damen Ave & Clybourn Ave   \n428082          581              226       Racine Ave & Belmont Ave   \n395437          390               77        Clinton St & Madison St   \n\n        to_station_id                to_station_name    usertype  gender  \\\n439283             67  Sheffield Ave & Fullerton Ave  Subscriber    Male   \n603317            195      Columbus Dr & Randolph St  Subscriber    Male   \n109957             69         Damen Ave & Pierce Ave    Customer    Male   \n428082            308         Seeley Ave & Roscoe St  Subscriber  Female   \n395437            621      Aberdeen St & Randolph St  Subscriber    Male   \n\n        birthyear age  \n439283     1982.0  37  \n603317     1988.0  31  \n109957     1989.0  30  \n428082     1989.0  30  \n395437     1979.0  40  ",
      "text/html": "<div>\n<style scoped>\n    .dataframe tbody tr th:only-of-type {\n        vertical-align: middle;\n    }\n\n    .dataframe tbody tr th {\n        vertical-align: top;\n    }\n\n    .dataframe thead th {\n        text-align: right;\n    }\n</style>\n<table border=\"1\" class=\"dataframe\">\n  <thead>\n    <tr style=\"text-align: right;\">\n      <th></th>\n      <th>user_id</th>\n      <th>start_time</th>\n      <th>end_time</th>\n      <th>timeduration</th>\n      <th>bikeid</th>\n      <th>tripduration</th>\n      <th>from_station_id</th>\n      <th>from_station_name</th>\n      <th>to_station_id</th>\n      <th>to_station_name</th>\n      <th>usertype</th>\n      <th>gender</th>\n      <th>birthyear</th>\n      <th>age</th>\n    </tr>\n  </thead>\n  <tbody>\n    <tr>\n      <th>439283</th>\n      <td>21499218</td>\n      <td>11/14/2018 7:37</td>\n      <td>11/14/2018 7:44</td>\n      <td>7</td>\n      <td>2631</td>\n      <td>436</td>\n      <td>319</td>\n      <td>Greenview Ave &amp; Diversey Pkwy</td>\n      <td>67</td>\n      <td>Sheffield Ave &amp; Fullerton Ave</td>\n      <td>Subscriber</td>\n      <td>Male</td>\n      <td>1982.0</td>\n      <td>37</td>\n    </tr>\n    <tr>\n      <th>603317</th>\n      <td>21694389</td>\n      <td>12/18/2018 19:02</td>\n      <td>12/18/2018 19:10</td>\n      <td>7</td>\n      <td>1565</td>\n      <td>445</td>\n      <td>164</td>\n      <td>Franklin St &amp; Lake St</td>\n      <td>195</td>\n      <td>Columbus Dr &amp; Randolph St</td>\n      <td>Subscriber</td>\n      <td>Male</td>\n      <td>1988.0</td>\n      <td>31</td>\n    </tr>\n    <tr>\n      <th>109957</th>\n      <td>21110722</td>\n      <td>10/9/2018 12:37</td>\n      <td>10/9/2018 12:55</td>\n      <td>18</td>\n      <td>2231</td>\n      <td>1,090</td>\n      <td>163</td>\n      <td>Damen Ave &amp; Clybourn Ave</td>\n      <td>69</td>\n      <td>Damen Ave &amp; Pierce Ave</td>\n      <td>Customer</td>\n      <td>Male</td>\n      <td>1989.0</td>\n      <td>30</td>\n    </tr>\n    <tr>\n      <th>428082</th>\n      <td>21485409</td>\n      <td>11/12/2018 12:30</td>\n      <td>11/12/2018 12:40</td>\n      <td>9</td>\n      <td>4226</td>\n      <td>581</td>\n      <td>226</td>\n      <td>Racine Ave &amp; Belmont Ave</td>\n      <td>308</td>\n      <td>Seeley Ave &amp; Roscoe St</td>\n      <td>Subscriber</td>\n      <td>Female</td>\n      <td>1989.0</td>\n      <td>30</td>\n    </tr>\n    <tr>\n      <th>395437</th>\n      <td>21445994</td>\n      <td>11/7/2018 7:29</td>\n      <td>11/7/2018 7:35</td>\n      <td>6</td>\n      <td>3475</td>\n      <td>390</td>\n      <td>77</td>\n      <td>Clinton St &amp; Madison St</td>\n      <td>621</td>\n      <td>Aberdeen St &amp; Randolph St</td>\n      <td>Subscriber</td>\n      <td>Male</td>\n      <td>1979.0</td>\n      <td>40</td>\n    </tr>\n  </tbody>\n</table>\n</div>"
     },
     "execution_count": 5,
     "metadata": {},
     "output_type": "execute_result"
    }
   ],
   "source": [
    "bike.head()"
   ],
   "metadata": {
    "collapsed": false,
    "pycharm": {
     "name": "#%%\n"
    },
    "trusted": false
   }
  },
  {
   "cell_type": "code",
   "execution_count": 6,
   "outputs": [
    {
     "data": {
      "text/plain": "0"
     },
     "execution_count": 6,
     "metadata": {},
     "output_type": "execute_result"
    }
   ],
   "source": [
    "sum(bike.duplicated())"
   ],
   "metadata": {
    "collapsed": false,
    "pycharm": {
     "name": "#%%\n"
    },
    "trusted": false
   }
  },
  {
   "cell_type": "code",
   "execution_count": 7,
   "outputs": [
    {
     "data": {
      "text/plain": "array(['Subscriber', 'Customer'], dtype=object)"
     },
     "execution_count": 7,
     "metadata": {},
     "output_type": "execute_result"
    }
   ],
   "source": [
    "bike.usertype.unique() # Subscriber 注册用户 Customer 临时用户"
   ],
   "metadata": {
    "collapsed": false,
    "pycharm": {
     "name": "#%%\n"
    },
    "trusted": false
   }
  },
  {
   "cell_type": "code",
   "execution_count": 8,
   "outputs": [
    {
     "data": {
      "text/plain": "Subscriber    5753\nCustomer       674\nName: usertype, dtype: int64"
     },
     "execution_count": 8,
     "metadata": {},
     "output_type": "execute_result"
    }
   ],
   "source": [
    "bike.usertype.value_counts()"
   ],
   "metadata": {
    "collapsed": false,
    "pycharm": {
     "name": "#%%\n"
    },
    "trusted": false
   }
  },
  {
   "cell_type": "markdown",
   "source": [
    "## 数据探索与数据处理"
   ],
   "metadata": {
    "collapsed": false,
    "pycharm": {
     "name": "#%% md\n"
    }
   }
  },
  {
   "cell_type": "code",
   "execution_count": 9,
   "outputs": [
    {
     "data": {
      "text/plain": "array(['Male', 'Female', nan], dtype=object)"
     },
     "execution_count": 9,
     "metadata": {},
     "output_type": "execute_result"
    }
   ],
   "source": [
    "bike.gender.unique()"
   ],
   "metadata": {
    "collapsed": false,
    "pycharm": {
     "name": "#%%\n"
    },
    "trusted": false
   }
  },
  {
   "cell_type": "code",
   "execution_count": 10,
   "outputs": [],
   "source": [
    "bike['gender'] = bike['gender'].fillna('Unknown') # 用未知来填充缺失值"
   ],
   "metadata": {
    "collapsed": false,
    "pycharm": {
     "name": "#%%\n"
    },
    "trusted": false
   }
  },
  {
   "cell_type": "code",
   "execution_count": 11,
   "outputs": [],
   "source": [
    "bike.drop('bikeid',axis = 1,inplace=True) # 去掉车辆编号"
   ],
   "metadata": {
    "collapsed": false,
    "pycharm": {
     "name": "#%%\n"
    },
    "trusted": false
   }
  },
  {
   "cell_type": "code",
   "execution_count": 12,
   "outputs": [
    {
     "data": {
      "text/plain": "         user_id        start_time          end_time  timeduration  \\\n371796  21417733   11/3/2018 16:32   11/3/2018 16:54            22   \n80060   21076161    10/7/2018 7:31   10/7/2018 12:02            31   \n92242   21090205   10/8/2018 12:10   10/8/2018 12:18             7   \n331956  21371191  10/30/2018 18:42  10/30/2018 18:59            17   \n208326  21225619  10/18/2018 10:52  10/18/2018 11:17            24   \n...          ...               ...               ...           ...   \n306859  21341969  10/28/2018 12:24  10/28/2018 12:45            20   \n431362  21489456  11/12/2018 19:10  11/12/2018 19:55            44   \n60956   21054004   10/4/2018 22:56   10/4/2018 23:53            57   \n484317  21553590  11/22/2018 15:38  11/22/2018 15:59            20   \n244515  21268874  10/22/2018 14:16  10/22/2018 14:40            24   \n\n       tripduration  from_station_id                    from_station_name  \\\n371796        1,347               31            Franklin St & Chicago Ave   \n80060        16,274              196      Cityfront Plaza Dr & Pioneer Ct   \n92242           453              341                    Adler Planetarium   \n331956        1,056              128              Damen Ave & Chicago Ave   \n208326        1,465               97                         Field Museum   \n...             ...              ...                                  ...   \n306859        1,255              284          Michigan Ave & Jackson Blvd   \n431362        2,668              145  Mies van der Rohe Way & Chestnut St   \n60956         3,426               97                         Field Museum   \n484317        1,246               76            Lake Shore Dr & Monroe St   \n244515        1,458               90                      Millennium Park   \n\n        to_station_id               to_station_name  usertype   gender  \\\n371796            315     Elston Ave & Wabansia Ave  Customer  Unknown   \n80060              45  Michigan Ave & Congress Pkwy  Customer  Unknown   \n92242               3                Shedd Aquarium  Customer  Unknown   \n331956            342         Wolcott Ave & Polk St  Customer  Unknown   \n208326             35       Streeter Dr & Grand Ave  Customer  Unknown   \n...               ...                           ...       ...      ...   \n306859             97                  Field Museum  Customer  Unknown   \n431362             97                  Field Museum  Customer  Unknown   \n60956             158  Milwaukee Ave & Wabansia Ave  Customer  Unknown   \n484317             35       Streeter Dr & Grand Ave  Customer  Unknown   \n244515            341             Adler Planetarium  Customer  Unknown   \n\n        birthyear age  \n371796        NaN      \n80060         NaN      \n92242         NaN      \n331956        NaN      \n208326        NaN      \n...           ...  ..  \n306859        NaN      \n431362        NaN      \n60956         NaN      \n484317        NaN      \n244515        NaN      \n\n[471 rows x 13 columns]",
      "text/html": "<div>\n<style scoped>\n    .dataframe tbody tr th:only-of-type {\n        vertical-align: middle;\n    }\n\n    .dataframe tbody tr th {\n        vertical-align: top;\n    }\n\n    .dataframe thead th {\n        text-align: right;\n    }\n</style>\n<table border=\"1\" class=\"dataframe\">\n  <thead>\n    <tr style=\"text-align: right;\">\n      <th></th>\n      <th>user_id</th>\n      <th>start_time</th>\n      <th>end_time</th>\n      <th>timeduration</th>\n      <th>tripduration</th>\n      <th>from_station_id</th>\n      <th>from_station_name</th>\n      <th>to_station_id</th>\n      <th>to_station_name</th>\n      <th>usertype</th>\n      <th>gender</th>\n      <th>birthyear</th>\n      <th>age</th>\n    </tr>\n  </thead>\n  <tbody>\n    <tr>\n      <th>371796</th>\n      <td>21417733</td>\n      <td>11/3/2018 16:32</td>\n      <td>11/3/2018 16:54</td>\n      <td>22</td>\n      <td>1,347</td>\n      <td>31</td>\n      <td>Franklin St &amp; Chicago Ave</td>\n      <td>315</td>\n      <td>Elston Ave &amp; Wabansia Ave</td>\n      <td>Customer</td>\n      <td>Unknown</td>\n      <td>NaN</td>\n      <td></td>\n    </tr>\n    <tr>\n      <th>80060</th>\n      <td>21076161</td>\n      <td>10/7/2018 7:31</td>\n      <td>10/7/2018 12:02</td>\n      <td>31</td>\n      <td>16,274</td>\n      <td>196</td>\n      <td>Cityfront Plaza Dr &amp; Pioneer Ct</td>\n      <td>45</td>\n      <td>Michigan Ave &amp; Congress Pkwy</td>\n      <td>Customer</td>\n      <td>Unknown</td>\n      <td>NaN</td>\n      <td></td>\n    </tr>\n    <tr>\n      <th>92242</th>\n      <td>21090205</td>\n      <td>10/8/2018 12:10</td>\n      <td>10/8/2018 12:18</td>\n      <td>7</td>\n      <td>453</td>\n      <td>341</td>\n      <td>Adler Planetarium</td>\n      <td>3</td>\n      <td>Shedd Aquarium</td>\n      <td>Customer</td>\n      <td>Unknown</td>\n      <td>NaN</td>\n      <td></td>\n    </tr>\n    <tr>\n      <th>331956</th>\n      <td>21371191</td>\n      <td>10/30/2018 18:42</td>\n      <td>10/30/2018 18:59</td>\n      <td>17</td>\n      <td>1,056</td>\n      <td>128</td>\n      <td>Damen Ave &amp; Chicago Ave</td>\n      <td>342</td>\n      <td>Wolcott Ave &amp; Polk St</td>\n      <td>Customer</td>\n      <td>Unknown</td>\n      <td>NaN</td>\n      <td></td>\n    </tr>\n    <tr>\n      <th>208326</th>\n      <td>21225619</td>\n      <td>10/18/2018 10:52</td>\n      <td>10/18/2018 11:17</td>\n      <td>24</td>\n      <td>1,465</td>\n      <td>97</td>\n      <td>Field Museum</td>\n      <td>35</td>\n      <td>Streeter Dr &amp; Grand Ave</td>\n      <td>Customer</td>\n      <td>Unknown</td>\n      <td>NaN</td>\n      <td></td>\n    </tr>\n    <tr>\n      <th>...</th>\n      <td>...</td>\n      <td>...</td>\n      <td>...</td>\n      <td>...</td>\n      <td>...</td>\n      <td>...</td>\n      <td>...</td>\n      <td>...</td>\n      <td>...</td>\n      <td>...</td>\n      <td>...</td>\n      <td>...</td>\n      <td>...</td>\n    </tr>\n    <tr>\n      <th>306859</th>\n      <td>21341969</td>\n      <td>10/28/2018 12:24</td>\n      <td>10/28/2018 12:45</td>\n      <td>20</td>\n      <td>1,255</td>\n      <td>284</td>\n      <td>Michigan Ave &amp; Jackson Blvd</td>\n      <td>97</td>\n      <td>Field Museum</td>\n      <td>Customer</td>\n      <td>Unknown</td>\n      <td>NaN</td>\n      <td></td>\n    </tr>\n    <tr>\n      <th>431362</th>\n      <td>21489456</td>\n      <td>11/12/2018 19:10</td>\n      <td>11/12/2018 19:55</td>\n      <td>44</td>\n      <td>2,668</td>\n      <td>145</td>\n      <td>Mies van der Rohe Way &amp; Chestnut St</td>\n      <td>97</td>\n      <td>Field Museum</td>\n      <td>Customer</td>\n      <td>Unknown</td>\n      <td>NaN</td>\n      <td></td>\n    </tr>\n    <tr>\n      <th>60956</th>\n      <td>21054004</td>\n      <td>10/4/2018 22:56</td>\n      <td>10/4/2018 23:53</td>\n      <td>57</td>\n      <td>3,426</td>\n      <td>97</td>\n      <td>Field Museum</td>\n      <td>158</td>\n      <td>Milwaukee Ave &amp; Wabansia Ave</td>\n      <td>Customer</td>\n      <td>Unknown</td>\n      <td>NaN</td>\n      <td></td>\n    </tr>\n    <tr>\n      <th>484317</th>\n      <td>21553590</td>\n      <td>11/22/2018 15:38</td>\n      <td>11/22/2018 15:59</td>\n      <td>20</td>\n      <td>1,246</td>\n      <td>76</td>\n      <td>Lake Shore Dr &amp; Monroe St</td>\n      <td>35</td>\n      <td>Streeter Dr &amp; Grand Ave</td>\n      <td>Customer</td>\n      <td>Unknown</td>\n      <td>NaN</td>\n      <td></td>\n    </tr>\n    <tr>\n      <th>244515</th>\n      <td>21268874</td>\n      <td>10/22/2018 14:16</td>\n      <td>10/22/2018 14:40</td>\n      <td>24</td>\n      <td>1,458</td>\n      <td>90</td>\n      <td>Millennium Park</td>\n      <td>341</td>\n      <td>Adler Planetarium</td>\n      <td>Customer</td>\n      <td>Unknown</td>\n      <td>NaN</td>\n      <td></td>\n    </tr>\n  </tbody>\n</table>\n<p>471 rows × 13 columns</p>\n</div>"
     },
     "execution_count": 12,
     "metadata": {},
     "output_type": "execute_result"
    }
   ],
   "source": [
    "bike.query('age==\" \"')"
   ],
   "metadata": {
    "collapsed": false,
    "pycharm": {
     "name": "#%%\n"
    },
    "trusted": false
   }
  },
  {
   "cell_type": "code",
   "execution_count": 13,
   "outputs": [],
   "source": [
    "bike = bike.drop('birthyear',axis = 1)"
   ],
   "metadata": {
    "collapsed": false,
    "pycharm": {
     "name": "#%%\n"
    },
    "trusted": false
   }
  },
  {
   "cell_type": "code",
   "execution_count": 14,
   "outputs": [],
   "source": [
    "# 处理日期时间类型的数据\n",
    "bike['start_time'] = pd.to_datetime((bike['start_time']))\n",
    "bike['end_time'] = pd.to_datetime((bike['end_time']))"
   ],
   "metadata": {
    "collapsed": false,
    "pycharm": {
     "name": "#%%\n"
    },
    "trusted": false
   }
  },
  {
   "cell_type": "code",
   "execution_count": 15,
   "outputs": [
    {
     "data": {
      "text/plain": "<AxesSubplot:>"
     },
     "execution_count": 15,
     "metadata": {},
     "output_type": "execute_result"
    },
    {
     "data": {
      "text/plain": "<Figure size 432x288 with 1 Axes>",
      "image/png": "[encoded data removed]"
     },
     "metadata": {
      "needs_background": "light"
     },
     "output_type": "display_data"
    }
   ],
   "source": [
    "bike.query('age!=\" \"')['age'].astype(int).plot(kind = 'box')"
   ],
   "metadata": {
    "collapsed": false,
    "pycharm": {
     "name": "#%%\n"
    },
    "trusted": false
   }
  },
  {
   "cell_type": "code",
   "execution_count": 16,
   "outputs": [
    {
     "data": {
      "text/plain": "<AxesSubplot:ylabel='Frequency'>"
     },
     "execution_count": 16,
     "metadata": {},
     "output_type": "execute_result"
    },
    {
     "data": {
      "text/plain": "<Figure size 432x288 with 1 Axes>",
      "image/png": "[encoded data removed]"
     },
     "metadata": {
      "needs_background": "light"
     },
     "output_type": "display_data"
    }
   ],
   "source": [
    "bike.query('age!=\" \"')['age'].astype(int).plot(kind = 'hist',bins=100)"
   ],
   "metadata": {
    "collapsed": false,
    "pycharm": {
     "name": "#%%\n"
    },
    "trusted": false
   }
  },
  {
   "cell_type": "code",
   "execution_count": 17,
   "outputs": [],
   "source": [
    "bike['weekday'] = bike['start_time'].dt.weekday # 星期\n",
    "bike['hour'] = bike['start_time'].dt.hour # 小时"
   ],
   "metadata": {
    "collapsed": false,
    "pycharm": {
     "name": "#%%\n"
    },
    "trusted": false
   }
  },
  {
   "cell_type": "code",
   "execution_count": 18,
   "outputs": [],
   "source": [
    "bike['tripduration'] = bike['tripduration'].str.replace(',','').astype(int)"
   ],
   "metadata": {
    "collapsed": false,
    "pycharm": {
     "name": "#%%\n"
    },
    "trusted": false
   }
  },
  {
   "cell_type": "code",
   "execution_count": 19,
   "outputs": [
    {
     "data": {
      "text/plain": "<AxesSubplot:>"
     },
     "execution_count": 19,
     "metadata": {},
     "output_type": "execute_result"
    },
    {
     "data": {
      "text/plain": "<Figure size 432x288 with 1 Axes>",
      "image/png": "[encoded data removed]"
     },
     "metadata": {
      "needs_background": "light"
     },
     "output_type": "display_data"
    }
   ],
   "source": [
    "bike['weekday'].value_counts().sort_index().plot(kind  ='bar')"
   ],
   "metadata": {
    "collapsed": false,
    "pycharm": {
     "name": "#%%\n"
    },
    "trusted": false
   }
  },
  {
   "cell_type": "code",
   "execution_count": 20,
   "outputs": [
    {
     "data": {
      "text/plain": "<AxesSubplot:>"
     },
     "execution_count": 20,
     "metadata": {},
     "output_type": "execute_result"
    },
    {
     "data": {
      "text/plain": "<Figure size 432x288 with 1 Axes>",
      "image/png": "[encoded data removed]"
     },
     "metadata": {
      "needs_background": "light"
     },
     "output_type": "display_data"
    }
   ],
   "source": [
    "bike['hour'].value_counts().sort_index().plot(kind  ='bar')"
   ],
   "metadata": {
    "collapsed": false,
    "pycharm": {
     "name": "#%%\n"
    },
    "trusted": false
   }
  },
  {
   "cell_type": "code",
   "execution_count": 21,
   "outputs": [],
   "source": [
    "#  用车的时间高峰 周间 早晚高峰 通勤时段"
   ],
   "metadata": {
    "collapsed": false,
    "pycharm": {
     "name": "#%%\n"
    },
    "trusted": false
   }
  },
  {
   "cell_type": "code",
   "execution_count": 22,
   "outputs": [
    {
     "data": {
      "text/plain": "<AxesSubplot:xlabel='gender', ylabel='timeduration'>"
     },
     "execution_count": 22,
     "metadata": {},
     "output_type": "execute_result"
    },
    {
     "data": {
      "text/plain": "<Figure size 432x288 with 1 Axes>",
      "image/png": "[encoded data removed]"
     },
     "metadata": {
      "needs_background": "light"
     },
     "output_type": "display_data"
    }
   ],
   "source": [
    "sns.barplot(x= 'gender',y='timeduration',data = bike)"
   ],
   "metadata": {
    "collapsed": false,
    "pycharm": {
     "name": "#%%\n"
    },
    "trusted": false
   }
  },
  {
   "cell_type": "code",
   "execution_count": 23,
   "outputs": [
    {
     "data": {
      "text/plain": "<AxesSubplot:xlabel='gender', ylabel='tripduration'>"
     },
     "execution_count": 23,
     "metadata": {},
     "output_type": "execute_result"
    },
    {
     "data": {
      "text/plain": "<Figure size 432x288 with 1 Axes>",
      "image/png": "[encoded data removed]"
     },
     "metadata": {
      "needs_background": "light"
     },
     "output_type": "display_data"
    }
   ],
   "source": [
    "sns.barplot(x= 'gender',y='tripduration',data = bike)"
   ],
   "metadata": {
    "collapsed": false,
    "pycharm": {
     "name": "#%%\n"
    },
    "trusted": false
   }
  },
  {
   "cell_type": "code",
   "execution_count": 24,
   "outputs": [],
   "source": [
    "# 骑行距离明显有异常的情况"
   ],
   "metadata": {
    "collapsed": false,
    "pycharm": {
     "name": "#%%\n"
    },
    "trusted": false
   }
  },
  {
   "cell_type": "code",
   "execution_count": 25,
   "outputs": [
    {
     "data": {
      "text/plain": "61"
     },
     "execution_count": 25,
     "metadata": {},
     "output_type": "execute_result"
    }
   ],
   "source": [
    "bike.tripduration.min()"
   ],
   "metadata": {
    "collapsed": false,
    "pycharm": {
     "name": "#%%\n"
    },
    "trusted": false
   }
  },
  {
   "cell_type": "code",
   "execution_count": 26,
   "outputs": [
    {
     "data": {
      "text/plain": "59"
     },
     "execution_count": 26,
     "metadata": {},
     "output_type": "execute_result"
    }
   ],
   "source": [
    "bike.timeduration.max()"
   ],
   "metadata": {
    "collapsed": false,
    "pycharm": {
     "name": "#%%\n"
    },
    "trusted": false
   }
  },
  {
   "cell_type": "code",
   "execution_count": 27,
   "outputs": [
    {
     "data": {
      "text/plain": "2765.1000000000013"
     },
     "execution_count": 27,
     "metadata": {},
     "output_type": "execute_result"
    }
   ],
   "source": [
    "bike.tripduration.quantile(0.97)  # 97%分位数 2765"
   ],
   "metadata": {
    "collapsed": false,
    "pycharm": {
     "name": "#%%\n"
    },
    "trusted": false
   }
  },
  {
   "cell_type": "code",
   "execution_count": 28,
   "outputs": [],
   "source": [
    "bike_clean = bike[bike.tripduration<3000]\n",
    "bike_clean = bike_clean.query('age!=\" \"')"
   ],
   "metadata": {
    "collapsed": false,
    "pycharm": {
     "name": "#%%\n"
    },
    "trusted": false
   }
  },
  {
   "cell_type": "code",
   "execution_count": 29,
   "outputs": [],
   "source": [
    "bike_clean = bike_clean.drop(['from_station_name','to_station_name','start_time','end_time','user_id'],axis = 1)"
   ],
   "metadata": {
    "collapsed": false,
    "pycharm": {
     "name": "#%%\n"
    },
    "trusted": false
   }
  },
  {
   "cell_type": "code",
   "execution_count": 30,
   "outputs": [],
   "source": [
    "bike_clean.age = bike_clean.age.astype(int)"
   ],
   "metadata": {
    "collapsed": false,
    "pycharm": {
     "name": "#%%\n"
    },
    "trusted": false
   }
  },
  {
   "cell_type": "code",
   "execution_count": 31,
   "outputs": [],
   "source": [
    "bike_clean = bike_clean[bike_clean['age']<80]"
   ],
   "metadata": {
    "collapsed": false,
    "pycharm": {
     "name": "#%%\n"
    },
    "trusted": false
   }
  },
  {
   "cell_type": "markdown",
   "source": [
    "## Kmeans 聚类"
   ],
   "metadata": {
    "collapsed": false,
    "pycharm": {
     "name": "#%% md\n"
    }
   }
  },
  {
   "cell_type": "code",
   "execution_count": 33,
   "outputs": [
    {
     "name": "stdout",
     "output_type": "stream",
     "text": [
      "<class 'pandas.core.frame.DataFrame'>\n",
      "Int64Index: 5876 entries, 439283 to 278179\n",
      "Data columns (total 9 columns):\n",
      " #   Column           Non-Null Count  Dtype \n",
      "---  ------           --------------  ----- \n",
      " 0   timeduration     5876 non-null   int64 \n",
      " 1   tripduration     5876 non-null   int64 \n",
      " 2   from_station_id  5876 non-null   int64 \n",
      " 3   to_station_id    5876 non-null   int64 \n",
      " 4   usertype         5876 non-null   object\n",
      " 5   gender           5876 non-null   object\n",
      " 6   age              5876 non-null   int64 \n",
      " 7   weekday          5876 non-null   int64 \n",
      " 8   hour             5876 non-null   int64 \n",
      "dtypes: int64(7), object(2)\n",
      "memory usage: 459.1+ KB\n"
     ]
    }
   ],
   "source": [
    "bike_clean.info()"
   ],
   "metadata": {
    "collapsed": false,
    "pycharm": {
     "name": "#%%\n"
    }
   }
  },
  {
   "cell_type": "code",
   "execution_count": 34,
   "outputs": [],
   "source": [
    "from sklearn.preprocessing import MinMaxScaler\n",
    "from sklearn.cluster import KMeans\n",
    "from sklearn.metrics import silhouette_score"
   ],
   "metadata": {
    "collapsed": false,
    "pycharm": {
     "name": "#%%\n"
    }
   }
  },
  {
   "cell_type": "code",
   "execution_count": 37,
   "outputs": [],
   "source": [
    "df2 = bike_clean.copy()\n",
    "df2= df2.drop(['from_station_id','to_station_id','timeduration','hour'],axis =1)\n",
    "df2['weekday'] = df2['weekday'].apply(lambda x:'周间' if x<5 else '周末') # 把星期几的数据换成周间/周末"
   ],
   "metadata": {
    "collapsed": false,
    "pycharm": {
     "name": "#%%\n"
    }
   }
  },
  {
   "cell_type": "code",
   "execution_count": 39,
   "outputs": [],
   "source": [
    "df2 = pd.get_dummies(df2)"
   ],
   "metadata": {
    "collapsed": false,
    "pycharm": {
     "name": "#%%\n"
    }
   }
  },
  {
   "cell_type": "code",
   "execution_count": 40,
   "outputs": [
    {
     "data": {
      "text/plain": "        tripduration  age  usertype_Customer  usertype_Subscriber  \\\n439283           436   37                  0                    1   \n603317           445   31                  0                    1   \n109957          1090   30                  1                    0   \n428082           581   30                  0                    1   \n395437           390   40                  0                    1   \n...              ...  ...                ...                  ...   \n186995           431   36                  0                    1   \n260464           918   29                  0                    1   \n182777          1165   33                  0                    1   \n606080           500   35                  0                    1   \n278179           483   29                  0                    1   \n\n        gender_Female  gender_Male  gender_Unknown  weekday_周末  weekday_周间  \n439283              0            1               0           0           1  \n603317              0            1               0           0           1  \n109957              0            1               0           0           1  \n428082              1            0               0           0           1  \n395437              0            1               0           0           1  \n...               ...          ...             ...         ...         ...  \n186995              1            0               0           0           1  \n260464              0            1               0           0           1  \n182777              1            0               0           0           1  \n606080              0            1               0           0           1  \n278179              1            0               0           0           1  \n\n[5876 rows x 9 columns]",
      "text/html": "<div>\n<style scoped>\n    .dataframe tbody tr th:only-of-type {\n        vertical-align: middle;\n    }\n\n    .dataframe tbody tr th {\n        vertical-align: top;\n    }\n\n    .dataframe thead th {\n        text-align: right;\n    }\n</style>\n<table border=\"1\" class=\"dataframe\">\n  <thead>\n    <tr style=\"text-align: right;\">\n      <th></th>\n      <th>tripduration</th>\n      <th>age</th>\n      <th>usertype_Customer</th>\n      <th>usertype_Subscriber</th>\n      <th>gender_Female</th>\n      <th>gender_Male</th>\n      <th>gender_Unknown</th>\n      <th>weekday_周末</th>\n      <th>weekday_周间</th>\n    </tr>\n  </thead>\n  <tbody>\n    <tr>\n      <th>439283</th>\n      <td>436</td>\n      <td>37</td>\n      <td>0</td>\n      <td>1</td>\n      <td>0</td>\n      <td>1</td>\n      <td>0</td>\n      <td>0</td>\n      <td>1</td>\n    </tr>\n    <tr>\n      <th>603317</th>\n      <td>445</td>\n      <td>31</td>\n      <td>0</td>\n      <td>1</td>\n      <td>0</td>\n      <td>1</td>\n      <td>0</td>\n      <td>0</td>\n      <td>1</td>\n    </tr>\n    <tr>\n      <th>109957</th>\n      <td>1090</td>\n      <td>30</td>\n      <td>1</td>\n      <td>0</td>\n      <td>0</td>\n      <td>1</td>\n      <td>0</td>\n      <td>0</td>\n      <td>1</td>\n    </tr>\n    <tr>\n      <th>428082</th>\n      <td>581</td>\n      <td>30</td>\n      <td>0</td>\n      <td>1</td>\n      <td>1</td>\n      <td>0</td>\n      <td>0</td>\n      <td>0</td>\n      <td>1</td>\n    </tr>\n    <tr>\n      <th>395437</th>\n      <td>390</td>\n      <td>40</td>\n      <td>0</td>\n      <td>1</td>\n      <td>0</td>\n      <td>1</td>\n      <td>0</td>\n      <td>0</td>\n      <td>1</td>\n    </tr>\n    <tr>\n      <th>...</th>\n      <td>...</td>\n      <td>...</td>\n      <td>...</td>\n      <td>...</td>\n      <td>...</td>\n      <td>...</td>\n      <td>...</td>\n      <td>...</td>\n      <td>...</td>\n    </tr>\n    <tr>\n      <th>186995</th>\n      <td>431</td>\n      <td>36</td>\n      <td>0</td>\n      <td>1</td>\n      <td>1</td>\n      <td>0</td>\n      <td>0</td>\n      <td>0</td>\n      <td>1</td>\n    </tr>\n    <tr>\n      <th>260464</th>\n      <td>918</td>\n      <td>29</td>\n      <td>0</td>\n      <td>1</td>\n      <td>0</td>\n      <td>1</td>\n      <td>0</td>\n      <td>0</td>\n      <td>1</td>\n    </tr>\n    <tr>\n      <th>182777</th>\n      <td>1165</td>\n      <td>33</td>\n      <td>0</td>\n      <td>1</td>\n      <td>1</td>\n      <td>0</td>\n      <td>0</td>\n      <td>0</td>\n      <td>1</td>\n    </tr>\n    <tr>\n      <th>606080</th>\n      <td>500</td>\n      <td>35</td>\n      <td>0</td>\n      <td>1</td>\n      <td>0</td>\n      <td>1</td>\n      <td>0</td>\n      <td>0</td>\n      <td>1</td>\n    </tr>\n    <tr>\n      <th>278179</th>\n      <td>483</td>\n      <td>29</td>\n      <td>0</td>\n      <td>1</td>\n      <td>1</td>\n      <td>0</td>\n      <td>0</td>\n      <td>0</td>\n      <td>1</td>\n    </tr>\n  </tbody>\n</table>\n<p>5876 rows × 9 columns</p>\n</div>"
     },
     "execution_count": 40,
     "metadata": {},
     "output_type": "execute_result"
    }
   ],
   "source": [
    "# 聚类之前, 一定要注意标准化/归一化的问题"
   ],
   "metadata": {
    "collapsed": false,
    "pycharm": {
     "name": "#%%\n"
    }
   }
  },
  {
   "cell_type": "code",
   "execution_count": 44,
   "outputs": [],
   "source": [
    "scaler = MinMaxScaler()\n",
    "num_feature = ['tripduration','age']\n",
    "df2[num_feature] = scaler.fit_transform(df2[num_feature])"
   ],
   "metadata": {
    "collapsed": false,
    "pycharm": {
     "name": "#%%\n"
    }
   }
  },
  {
   "cell_type": "code",
   "execution_count": 45,
   "outputs": [
    {
     "data": {
      "text/plain": "        tripduration       age  usertype_Customer  usertype_Subscriber  \\\n439283      0.128777  0.322581                  0                    1   \n603317      0.131868  0.225806                  0                    1   \n109957      0.353365  0.209677                  1                    0   \n428082      0.178571  0.209677                  0                    1   \n395437      0.112981  0.370968                  0                    1   \n...              ...       ...                ...                  ...   \n186995      0.127060  0.306452                  0                    1   \n260464      0.294299  0.193548                  0                    1   \n182777      0.379121  0.258065                  0                    1   \n606080      0.150755  0.290323                  0                    1   \n278179      0.144918  0.193548                  0                    1   \n\n        gender_Female  gender_Male  gender_Unknown  weekday_周末  weekday_周间  \n439283              0            1               0           0           1  \n603317              0            1               0           0           1  \n109957              0            1               0           0           1  \n428082              1            0               0           0           1  \n395437              0            1               0           0           1  \n...               ...          ...             ...         ...         ...  \n186995              1            0               0           0           1  \n260464              0            1               0           0           1  \n182777              1            0               0           0           1  \n606080              0            1               0           0           1  \n278179              1            0               0           0           1  \n\n[5876 rows x 9 columns]",
      "text/html": "<div>\n<style scoped>\n    .dataframe tbody tr th:only-of-type {\n        vertical-align: middle;\n    }\n\n    .dataframe tbody tr th {\n        vertical-align: top;\n    }\n\n    .dataframe thead th {\n        text-align: right;\n    }\n</style>\n<table border=\"1\" class=\"dataframe\">\n  <thead>\n    <tr style=\"text-align: right;\">\n      <th></th>\n      <th>tripduration</th>\n      <th>age</th>\n      <th>usertype_Customer</th>\n      <th>usertype_Subscriber</th>\n      <th>gender_Female</th>\n      <th>gender_Male</th>\n      <th>gender_Unknown</th>\n      <th>weekday_周末</th>\n      <th>weekday_周间</th>\n    </tr>\n  </thead>\n  <tbody>\n    <tr>\n      <th>439283</th>\n      <td>0.128777</td>\n      <td>0.322581</td>\n      <td>0</td>\n      <td>1</td>\n      <td>0</td>\n      <td>1</td>\n      <td>0</td>\n      <td>0</td>\n      <td>1</td>\n    </tr>\n    <tr>\n      <th>603317</th>\n      <td>0.131868</td>\n      <td>0.225806</td>\n      <td>0</td>\n      <td>1</td>\n      <td>0</td>\n      <td>1</td>\n      <td>0</td>\n      <td>0</td>\n      <td>1</td>\n    </tr>\n    <tr>\n      <th>109957</th>\n      <td>0.353365</td>\n      <td>0.209677</td>\n      <td>1</td>\n      <td>0</td>\n      <td>0</td>\n      <td>1</td>\n      <td>0</td>\n      <td>0</td>\n      <td>1</td>\n    </tr>\n    <tr>\n      <th>428082</th>\n      <td>0.178571</td>\n      <td>0.209677</td>\n      <td>0</td>\n      <td>1</td>\n      <td>1</td>\n      <td>0</td>\n      <td>0</td>\n      <td>0</td>\n      <td>1</td>\n    </tr>\n    <tr>\n      <th>395437</th>\n      <td>0.112981</td>\n      <td>0.370968</td>\n      <td>0</td>\n      <td>1</td>\n      <td>0</td>\n      <td>1</td>\n      <td>0</td>\n      <td>0</td>\n      <td>1</td>\n    </tr>\n    <tr>\n      <th>...</th>\n      <td>...</td>\n      <td>...</td>\n      <td>...</td>\n      <td>...</td>\n      <td>...</td>\n      <td>...</td>\n      <td>...</td>\n      <td>...</td>\n      <td>...</td>\n    </tr>\n    <tr>\n      <th>186995</th>\n      <td>0.127060</td>\n      <td>0.306452</td>\n      <td>0</td>\n      <td>1</td>\n      <td>1</td>\n      <td>0</td>\n      <td>0</td>\n      <td>0</td>\n      <td>1</td>\n    </tr>\n    <tr>\n      <th>260464</th>\n      <td>0.294299</td>\n      <td>0.193548</td>\n      <td>0</td>\n      <td>1</td>\n      <td>0</td>\n      <td>1</td>\n      <td>0</td>\n      <td>0</td>\n      <td>1</td>\n    </tr>\n    <tr>\n      <th>182777</th>\n      <td>0.379121</td>\n      <td>0.258065</td>\n      <td>0</td>\n      <td>1</td>\n      <td>1</td>\n      <td>0</td>\n      <td>0</td>\n      <td>0</td>\n      <td>1</td>\n    </tr>\n    <tr>\n      <th>606080</th>\n      <td>0.150755</td>\n      <td>0.290323</td>\n      <td>0</td>\n      <td>1</td>\n      <td>0</td>\n      <td>1</td>\n      <td>0</td>\n      <td>0</td>\n      <td>1</td>\n    </tr>\n    <tr>\n      <th>278179</th>\n      <td>0.144918</td>\n      <td>0.193548</td>\n      <td>0</td>\n      <td>1</td>\n      <td>1</td>\n      <td>0</td>\n      <td>0</td>\n      <td>0</td>\n      <td>1</td>\n    </tr>\n  </tbody>\n</table>\n<p>5876 rows × 9 columns</p>\n</div>"
     },
     "execution_count": 45,
     "metadata": {},
     "output_type": "execute_result"
    }
   ],
   "source": [
    "df2"
   ],
   "metadata": {
    "collapsed": false,
    "pycharm": {
     "name": "#%%\n"
    }
   }
  },
  {
   "cell_type": "code",
   "execution_count": 47,
   "outputs": [
    {
     "data": {
      "text/plain": "<Figure size 432x432 with 2 Axes>",
      "image/png": "[encoded data removed]"
     },
     "metadata": {
      "needs_background": "light"
     },
     "output_type": "display_data"
    }
   ],
   "source": [
    "sc_score = []\n",
    "sse = []\n",
    "for k in range(2,9):\n",
    "    estimator = KMeans(n_clusters=k,random_state=10)\n",
    "    estimator.fit(df2)\n",
    "    sc_score.append(silhouette_score(df2,estimator.labels_))\n",
    "    sse.append(estimator.inertia_)\n",
    "\n",
    "plt.figure(figsize=(6,6))\n",
    "plt.subplot(211)\n",
    "x = range(2,9)\n",
    "plt.ylabel('silhouette_score')\n",
    "plt.plot(x,sc_score,'o-')\n",
    "\n",
    "plt.subplot(212)\n",
    "x = range(2,9)\n",
    "plt.ylabel('sse')\n",
    "plt.plot(x,sse,'o-')\n",
    "plt.show()"
   ],
   "metadata": {
    "collapsed": false,
    "pycharm": {
     "name": "#%%\n"
    }
   }
  },
  {
   "cell_type": "code",
   "execution_count": 48,
   "outputs": [],
   "source": [
    "estimator = KMeans(n_clusters=5,random_state=10)\n",
    "bike_clean['label'] = estimator.fit_predict(df2)"
   ],
   "metadata": {
    "collapsed": false,
    "pycharm": {
     "name": "#%%\n"
    }
   }
  },
  {
   "cell_type": "code",
   "execution_count": null,
   "outputs": [],
   "source": [
    "## 结果解读"
   ],
   "metadata": {
    "collapsed": false,
    "pycharm": {
     "name": "#%%\n"
    }
   }
  },
  {
   "cell_type": "code",
   "execution_count": 49,
   "outputs": [
    {
     "data": {
      "text/plain": "      count unique     top  freq\nlabel                           \n0      3823      1    Male  3823\n1      1023      2  Female  1010\n2       246      2  Female   244\n3       631      1    Male   631\n4       153      3    Male   131",
      "text/html": "<div>\n<style scoped>\n    .dataframe tbody tr th:only-of-type {\n        vertical-align: middle;\n    }\n\n    .dataframe tbody tr th {\n        vertical-align: top;\n    }\n\n    .dataframe thead th {\n        text-align: right;\n    }\n</style>\n<table border=\"1\" class=\"dataframe\">\n  <thead>\n    <tr style=\"text-align: right;\">\n      <th></th>\n      <th>count</th>\n      <th>unique</th>\n      <th>top</th>\n      <th>freq</th>\n    </tr>\n    <tr>\n      <th>label</th>\n      <th></th>\n      <th></th>\n      <th></th>\n      <th></th>\n    </tr>\n  </thead>\n  <tbody>\n    <tr>\n      <th>0</th>\n      <td>3823</td>\n      <td>1</td>\n      <td>Male</td>\n      <td>3823</td>\n    </tr>\n    <tr>\n      <th>1</th>\n      <td>1023</td>\n      <td>2</td>\n      <td>Female</td>\n      <td>1010</td>\n    </tr>\n    <tr>\n      <th>2</th>\n      <td>246</td>\n      <td>2</td>\n      <td>Female</td>\n      <td>244</td>\n    </tr>\n    <tr>\n      <th>3</th>\n      <td>631</td>\n      <td>1</td>\n      <td>Male</td>\n      <td>631</td>\n    </tr>\n    <tr>\n      <th>4</th>\n      <td>153</td>\n      <td>3</td>\n      <td>Male</td>\n      <td>131</td>\n    </tr>\n  </tbody>\n</table>\n</div>"
     },
     "execution_count": 49,
     "metadata": {},
     "output_type": "execute_result"
    }
   ],
   "source": [
    "bike_clean.groupby('label').gender.describe()  # 0和 3群都是男性  1群2群 绝大多数都是女性"
   ],
   "metadata": {
    "collapsed": false,
    "pycharm": {
     "name": "#%%\n"
    }
   }
  },
  {
   "cell_type": "code",
   "execution_count": 50,
   "outputs": [
    {
     "data": {
      "text/plain": "      count unique         top  freq\nlabel                               \n0      3823      1  Subscriber  3823\n1      1023      1  Subscriber  1023\n2       246      2  Subscriber   226\n3       631      1  Subscriber   631\n4       153      1    Customer   153",
      "text/html": "<div>\n<style scoped>\n    .dataframe tbody tr th:only-of-type {\n        vertical-align: middle;\n    }\n\n    .dataframe tbody tr th {\n        vertical-align: top;\n    }\n\n    .dataframe thead th {\n        text-align: right;\n    }\n</style>\n<table border=\"1\" class=\"dataframe\">\n  <thead>\n    <tr style=\"text-align: right;\">\n      <th></th>\n      <th>count</th>\n      <th>unique</th>\n      <th>top</th>\n      <th>freq</th>\n    </tr>\n    <tr>\n      <th>label</th>\n      <th></th>\n      <th></th>\n      <th></th>\n      <th></th>\n    </tr>\n  </thead>\n  <tbody>\n    <tr>\n      <th>0</th>\n      <td>3823</td>\n      <td>1</td>\n      <td>Subscriber</td>\n      <td>3823</td>\n    </tr>\n    <tr>\n      <th>1</th>\n      <td>1023</td>\n      <td>1</td>\n      <td>Subscriber</td>\n      <td>1023</td>\n    </tr>\n    <tr>\n      <th>2</th>\n      <td>246</td>\n      <td>2</td>\n      <td>Subscriber</td>\n      <td>226</td>\n    </tr>\n    <tr>\n      <th>3</th>\n      <td>631</td>\n      <td>1</td>\n      <td>Subscriber</td>\n      <td>631</td>\n    </tr>\n    <tr>\n      <th>4</th>\n      <td>153</td>\n      <td>1</td>\n      <td>Customer</td>\n      <td>153</td>\n    </tr>\n  </tbody>\n</table>\n</div>"
     },
     "execution_count": 50,
     "metadata": {},
     "output_type": "execute_result"
    }
   ],
   "source": [
    "bike_clean.groupby('label').usertype.describe()  # 4群是非注册用户"
   ],
   "metadata": {
    "collapsed": false,
    "pycharm": {
     "name": "#%%\n"
    }
   }
  },
  {
   "cell_type": "code",
   "execution_count": 59,
   "outputs": [
    {
     "data": {
      "text/plain": "<AxesSubplot:>"
     },
     "execution_count": 59,
     "metadata": {},
     "output_type": "execute_result"
    },
    {
     "data": {
      "text/plain": "<Figure size 432x288 with 1 Axes>",
      "image/png": "[encoded data removed]"
     },
     "metadata": {
      "needs_background": "light"
     },
     "output_type": "display_data"
    }
   ],
   "source": [
    "bike_clean[bike_clean['label']==2].weekday.value_counts().plot(kind = 'bar')"
   ],
   "metadata": {
    "collapsed": false,
    "pycharm": {
     "name": "#%%\n"
    }
   }
  },
  {
   "cell_type": "code",
   "execution_count": 64,
   "outputs": [
    {
     "data": {
      "text/plain": "        count       mean        std   min   25%   50%   75%   max\nlabel                                                            \n0      3823.0  37.257651  11.178575  17.0  29.0  34.0  44.0  74.0\n1      1023.0  35.201369  10.392706  18.0  28.0  32.0  39.5  71.0\n2       246.0  33.686992   9.867882  19.0  27.0  31.0  36.0  72.0\n3       631.0  35.575277  11.188867  17.0  27.0  32.0  40.0  79.0\n4       153.0  33.163399  10.355178  18.0  25.0  30.0  39.0  60.0",
      "text/html": "<div>\n<style scoped>\n    .dataframe tbody tr th:only-of-type {\n        vertical-align: middle;\n    }\n\n    .dataframe tbody tr th {\n        vertical-align: top;\n    }\n\n    .dataframe thead th {\n        text-align: right;\n    }\n</style>\n<table border=\"1\" class=\"dataframe\">\n  <thead>\n    <tr style=\"text-align: right;\">\n      <th></th>\n      <th>count</th>\n      <th>mean</th>\n      <th>std</th>\n      <th>min</th>\n      <th>25%</th>\n      <th>50%</th>\n      <th>75%</th>\n      <th>max</th>\n    </tr>\n    <tr>\n      <th>label</th>\n      <th></th>\n      <th></th>\n      <th></th>\n      <th></th>\n      <th></th>\n      <th></th>\n      <th></th>\n      <th></th>\n    </tr>\n  </thead>\n  <tbody>\n    <tr>\n      <th>0</th>\n      <td>3823.0</td>\n      <td>37.257651</td>\n      <td>11.178575</td>\n      <td>17.0</td>\n      <td>29.0</td>\n      <td>34.0</td>\n      <td>44.0</td>\n      <td>74.0</td>\n    </tr>\n    <tr>\n      <th>1</th>\n      <td>1023.0</td>\n      <td>35.201369</td>\n      <td>10.392706</td>\n      <td>18.0</td>\n      <td>28.0</td>\n      <td>32.0</td>\n      <td>39.5</td>\n      <td>71.0</td>\n    </tr>\n    <tr>\n      <th>2</th>\n      <td>246.0</td>\n      <td>33.686992</td>\n      <td>9.867882</td>\n      <td>19.0</td>\n      <td>27.0</td>\n      <td>31.0</td>\n      <td>36.0</td>\n      <td>72.0</td>\n    </tr>\n    <tr>\n      <th>3</th>\n      <td>631.0</td>\n      <td>35.575277</td>\n      <td>11.188867</td>\n      <td>17.0</td>\n      <td>27.0</td>\n      <td>32.0</td>\n      <td>40.0</td>\n      <td>79.0</td>\n    </tr>\n    <tr>\n      <th>4</th>\n      <td>153.0</td>\n      <td>33.163399</td>\n      <td>10.355178</td>\n      <td>18.0</td>\n      <td>25.0</td>\n      <td>30.0</td>\n      <td>39.0</td>\n      <td>60.0</td>\n    </tr>\n  </tbody>\n</table>\n</div>"
     },
     "execution_count": 64,
     "metadata": {},
     "output_type": "execute_result"
    }
   ],
   "source": [
    "bike_clean.groupby('label').age.describe()"
   ],
   "metadata": {
    "collapsed": false,
    "pycharm": {
     "name": "#%%\n"
    }
   }
  },
  {
   "cell_type": "code",
   "execution_count": null,
   "outputs": [],
   "source": [],
   "metadata": {
    "collapsed": false,
    "pycharm": {
     "name": "#%%\n"
    }
   }
  }
 ],
 "metadata": {
  "kernelspec": {
   "display_name": "Python 3",
   "language": "python",
   "name": "python3"
  },
  "language_info": {
   "codemirror_mode": {
    "name": "ipython",
    "version": 2
   },
   "file_extension": ".py",
   "mimetype": "text/x-python",
   "name": "python",
   "nbconvert_exporter": "python",
   "pygments_lexer": "ipython2",
   "version": "2.7.6"
  }
 },
 "nbformat": 4,
 "nbformat_minor": 0
}