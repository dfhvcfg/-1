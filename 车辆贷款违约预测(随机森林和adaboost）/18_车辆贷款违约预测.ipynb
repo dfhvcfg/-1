{
 "cells": [
  {
   "cell_type": "code",
   "execution_count": 8,
   "metadata": {
    "collapsed": true,
    "ExecuteTime": {
     "end_time": "2024-03-03T07:18:32.488007100Z",
     "start_time": "2024-03-03T07:18:32.468320500Z"
    }
   },
   "outputs": [],
   "source": [
    "from sklearn.ensemble import RandomForestClassifier\n",
    "from sklearn.model_selection import train_test_split\n",
    "import pandas as pd\n",
    "import numpy as np"
   ]
  },
  {
   "cell_type": "code",
   "execution_count": 9,
   "outputs": [
    {
     "data": {
      "text/plain": "        customer_id  main_account_loan_no  main_account_active_loan_no  \\\n0            105691                     4                            3   \n1             24938                     7                            2   \n2            104389                     5                            4   \n3             54688                    43                           13   \n4             63894                     0                            0   \n...             ...                   ...                          ...   \n149995       143579                     1                            0   \n149996       112588                     1                            0   \n149997         1125                    21                            4   \n149998         4752                     0                            0   \n149999        31397                     0                            0   \n\n        main_account_overdue_no  main_account_outstanding_loan  \\\n0                             0                         384989   \n1                             0                         268670   \n2                             1                        3519013   \n3                             6                        1867106   \n4                             0                              0   \n...                         ...                            ...   \n149995                        0                              0   \n149996                        0                              0   \n149997                        0                          60522   \n149998                        0                              0   \n149999                        0                              0   \n\n        main_account_sanction_loan  main_account_disbursed_loan  \\\n0                           666207                       666207   \n1                           387994                       387994   \n2                          3613854                      3576048   \n3                          2484678                      2486856   \n4                                0                            0   \n...                            ...                          ...   \n149995                           0                            0   \n149996                           0                            0   \n149997                      119000                       119000   \n149998                           0                            0   \n149999                           0                            0   \n\n        sub_account_loan_no  sub_account_active_loan_no  \\\n0                         0                           0   \n1                         0                           0   \n2                         0                           0   \n3                         0                           0   \n4                         0                           0   \n...                     ...                         ...   \n149995                    0                           0   \n149996                    0                           0   \n149997                    0                           0   \n149998                    0                           0   \n149999                    0                           0   \n\n        sub_account_overdue_no  ...  main_account_tenure  sub_account_tenure  \\\n0                            0  ...                   81                   0   \n1                            0  ...                  161                   0   \n2                            0  ...              3576048                   0   \n3                            0  ...                    0                   0   \n4                            0  ...                    0                   0   \n...                        ...  ...                  ...                 ...   \n149995                       0  ...                    0                   0   \n149996                       0  ...                    0                   0   \n149997                       0  ...                    3                   0   \n149998                       0  ...                    0                   0   \n149999                       0  ...                    0                   0   \n\n        disburse_to_sactioned_ratio  active_to_inactive_act_ratio  \\\n0                              1.00                          2.50   \n1                              1.00                          1.33   \n2                              0.99                          3.00   \n3                              1.00                          1.42   \n4                              1.00                          1.00   \n...                             ...                           ...   \n149995                         1.00                          1.00   \n149996                         1.00                          1.00   \n149997                         1.00                          1.22   \n149998                         1.00                          1.00   \n149999                         1.00                          1.00   \n\n        year_of_birth  disbursed_date  Credit_level  employment_type  age  \\\n0                1968            2019             1                0   51   \n1                1992            2019             9                0   27   \n2                1991            2019            13                1   28   \n3                1964            2019             3                1   55   \n4                1995            2019            -1                0   24   \n...               ...             ...           ...              ...  ...   \n149995           1986            2019            13                0   33   \n149996           1995            2019             6                1   24   \n149997           1981            2019             7                0   38   \n149998           1988            2019            -1                0   31   \n149999           1988            2019            -1                1   31   \n\n        loan_default  \n0                  0  \n1                  0  \n2                  0  \n3                  0  \n4                  0  \n...              ...  \n149995             0  \n149996             0  \n149997             0  \n149998             0  \n149999             0  \n\n[150000 rows x 53 columns]",
      "text/html": "<div>\n<style scoped>\n    .dataframe tbody tr th:only-of-type {\n        vertical-align: middle;\n    }\n\n    .dataframe tbody tr th {\n        vertical-align: top;\n    }\n\n    .dataframe thead th {\n        text-align: right;\n    }\n</style>\n<table border=\"1\" class=\"dataframe\">\n  <thead>\n    <tr style=\"text-align: right;\">\n      <th></th>\n      <th>customer_id</th>\n      <th>main_account_loan_no</th>\n      <th>main_account_active_loan_no</th>\n      <th>main_account_overdue_no</th>\n      <th>main_account_outstanding_loan</th>\n      <th>main_account_sanction_loan</th>\n      <th>main_account_disbursed_loan</th>\n      <th>sub_account_loan_no</th>\n      <th>sub_account_active_loan_no</th>\n      <th>sub_account_overdue_no</th>\n      <th>...</th>\n      <th>main_account_tenure</th>\n      <th>sub_account_tenure</th>\n      <th>disburse_to_sactioned_ratio</th>\n      <th>active_to_inactive_act_ratio</th>\n      <th>year_of_birth</th>\n      <th>disbursed_date</th>\n      <th>Credit_level</th>\n      <th>employment_type</th>\n      <th>age</th>\n      <th>loan_default</th>\n    </tr>\n  </thead>\n  <tbody>\n    <tr>\n      <th>0</th>\n      <td>105691</td>\n      <td>4</td>\n      <td>3</td>\n      <td>0</td>\n      <td>384989</td>\n      <td>666207</td>\n      <td>666207</td>\n      <td>0</td>\n      <td>0</td>\n      <td>0</td>\n      <td>...</td>\n      <td>81</td>\n      <td>0</td>\n      <td>1.00</td>\n      <td>2.50</td>\n      <td>1968</td>\n      <td>2019</td>\n      <td>1</td>\n      <td>0</td>\n      <td>51</td>\n      <td>0</td>\n    </tr>\n    <tr>\n      <th>1</th>\n      <td>24938</td>\n      <td>7</td>\n      <td>2</td>\n      <td>0</td>\n      <td>268670</td>\n      <td>387994</td>\n      <td>387994</td>\n      <td>0</td>\n      <td>0</td>\n      <td>0</td>\n      <td>...</td>\n      <td>161</td>\n      <td>0</td>\n      <td>1.00</td>\n      <td>1.33</td>\n      <td>1992</td>\n      <td>2019</td>\n      <td>9</td>\n      <td>0</td>\n      <td>27</td>\n      <td>0</td>\n    </tr>\n    <tr>\n      <th>2</th>\n      <td>104389</td>\n      <td>5</td>\n      <td>4</td>\n      <td>1</td>\n      <td>3519013</td>\n      <td>3613854</td>\n      <td>3576048</td>\n      <td>0</td>\n      <td>0</td>\n      <td>0</td>\n      <td>...</td>\n      <td>3576048</td>\n      <td>0</td>\n      <td>0.99</td>\n      <td>3.00</td>\n      <td>1991</td>\n      <td>2019</td>\n      <td>13</td>\n      <td>1</td>\n      <td>28</td>\n      <td>0</td>\n    </tr>\n    <tr>\n      <th>3</th>\n      <td>54688</td>\n      <td>43</td>\n      <td>13</td>\n      <td>6</td>\n      <td>1867106</td>\n      <td>2484678</td>\n      <td>2486856</td>\n      <td>0</td>\n      <td>0</td>\n      <td>0</td>\n      <td>...</td>\n      <td>0</td>\n      <td>0</td>\n      <td>1.00</td>\n      <td>1.42</td>\n      <td>1964</td>\n      <td>2019</td>\n      <td>3</td>\n      <td>1</td>\n      <td>55</td>\n      <td>0</td>\n    </tr>\n    <tr>\n      <th>4</th>\n      <td>63894</td>\n      <td>0</td>\n      <td>0</td>\n      <td>0</td>\n      <td>0</td>\n      <td>0</td>\n      <td>0</td>\n      <td>0</td>\n      <td>0</td>\n      <td>0</td>\n      <td>...</td>\n      <td>0</td>\n      <td>0</td>\n      <td>1.00</td>\n      <td>1.00</td>\n      <td>1995</td>\n      <td>2019</td>\n      <td>-1</td>\n      <td>0</td>\n      <td>24</td>\n      <td>0</td>\n    </tr>\n    <tr>\n      <th>...</th>\n      <td>...</td>\n      <td>...</td>\n      <td>...</td>\n      <td>...</td>\n      <td>...</td>\n      <td>...</td>\n      <td>...</td>\n      <td>...</td>\n      <td>...</td>\n      <td>...</td>\n      <td>...</td>\n      <td>...</td>\n      <td>...</td>\n      <td>...</td>\n      <td>...</td>\n      <td>...</td>\n      <td>...</td>\n      <td>...</td>\n      <td>...</td>\n      <td>...</td>\n      <td>...</td>\n    </tr>\n    <tr>\n      <th>149995</th>\n      <td>143579</td>\n      <td>1</td>\n      <td>0</td>\n      <td>0</td>\n      <td>0</td>\n      <td>0</td>\n      <td>0</td>\n      <td>0</td>\n      <td>0</td>\n      <td>0</td>\n      <td>...</td>\n      <td>0</td>\n      <td>0</td>\n      <td>1.00</td>\n      <td>1.00</td>\n      <td>1986</td>\n      <td>2019</td>\n      <td>13</td>\n      <td>0</td>\n      <td>33</td>\n      <td>0</td>\n    </tr>\n    <tr>\n      <th>149996</th>\n      <td>112588</td>\n      <td>1</td>\n      <td>0</td>\n      <td>0</td>\n      <td>0</td>\n      <td>0</td>\n      <td>0</td>\n      <td>0</td>\n      <td>0</td>\n      <td>0</td>\n      <td>...</td>\n      <td>0</td>\n      <td>0</td>\n      <td>1.00</td>\n      <td>1.00</td>\n      <td>1995</td>\n      <td>2019</td>\n      <td>6</td>\n      <td>1</td>\n      <td>24</td>\n      <td>0</td>\n    </tr>\n    <tr>\n      <th>149997</th>\n      <td>1125</td>\n      <td>21</td>\n      <td>4</td>\n      <td>0</td>\n      <td>60522</td>\n      <td>119000</td>\n      <td>119000</td>\n      <td>0</td>\n      <td>0</td>\n      <td>0</td>\n      <td>...</td>\n      <td>3</td>\n      <td>0</td>\n      <td>1.00</td>\n      <td>1.22</td>\n      <td>1981</td>\n      <td>2019</td>\n      <td>7</td>\n      <td>0</td>\n      <td>38</td>\n      <td>0</td>\n    </tr>\n    <tr>\n      <th>149998</th>\n      <td>4752</td>\n      <td>0</td>\n      <td>0</td>\n      <td>0</td>\n      <td>0</td>\n      <td>0</td>\n      <td>0</td>\n      <td>0</td>\n      <td>0</td>\n      <td>0</td>\n      <td>...</td>\n      <td>0</td>\n      <td>0</td>\n      <td>1.00</td>\n      <td>1.00</td>\n      <td>1988</td>\n      <td>2019</td>\n      <td>-1</td>\n      <td>0</td>\n      <td>31</td>\n      <td>0</td>\n    </tr>\n    <tr>\n      <th>149999</th>\n      <td>31397</td>\n      <td>0</td>\n      <td>0</td>\n      <td>0</td>\n      <td>0</td>\n      <td>0</td>\n      <td>0</td>\n      <td>0</td>\n      <td>0</td>\n      <td>0</td>\n      <td>...</td>\n      <td>0</td>\n      <td>0</td>\n      <td>1.00</td>\n      <td>1.00</td>\n      <td>1988</td>\n      <td>2019</td>\n      <td>-1</td>\n      <td>1</td>\n      <td>31</td>\n      <td>0</td>\n    </tr>\n  </tbody>\n</table>\n<p>150000 rows × 53 columns</p>\n</div>"
     },
     "execution_count": 9,
     "metadata": {},
     "output_type": "execute_result"
    }
   ],
   "source": [
    "# 加载数据\n",
    "data = pd.read_csv('车辆贷款违约预测.csv')\n",
    "data"
   ],
   "metadata": {
    "collapsed": false,
    "pycharm": {
     "name": "#%%\n"
    },
    "ExecuteTime": {
     "end_time": "2024-03-03T07:18:33.216094600Z",
     "start_time": "2024-03-03T07:18:32.664016200Z"
    }
   }
  },
  {
   "cell_type": "code",
   "execution_count": 10,
   "outputs": [
    {
     "data": {
      "text/plain": "0    0.823033\n1    0.176967\nName: loan_default, dtype: float64"
     },
     "execution_count": 10,
     "metadata": {},
     "output_type": "execute_result"
    }
   ],
   "source": [
    "data.loan_default.value_counts(1)"
   ],
   "metadata": {
    "collapsed": false,
    "pycharm": {
     "name": "#%%\n"
    },
    "ExecuteTime": {
     "end_time": "2024-03-03T07:18:33.263282300Z",
     "start_time": "2024-03-03T07:18:33.217098700Z"
    }
   }
  },
  {
   "cell_type": "code",
   "execution_count": 11,
   "outputs": [],
   "source": [
    "data = data.drop(['customer_id','disbursed_date'],axis = 1) # 删掉用户的id  以及放款日期\n"
   ],
   "metadata": {
    "collapsed": false,
    "pycharm": {
     "name": "#%%\n"
    },
    "ExecuteTime": {
     "end_time": "2024-03-03T07:18:33.299085900Z",
     "start_time": "2024-03-03T07:18:33.241706500Z"
    }
   }
  },
  {
   "cell_type": "code",
   "execution_count": 12,
   "outputs": [],
   "source": [
    "# 数据中有inf\n",
    "# np.any 只要有True 就会返回1\n",
    "inf_names = []\n",
    "for name in data.columns:\n",
    "    if np.any(np.isinf(data[name])):   # np.isinf 判断数据中是否有inf的值 如果有 就会返回True\n",
    "        inf_names.append(name)"
   ],
   "metadata": {
    "collapsed": false,
    "pycharm": {
     "name": "#%%\n"
    },
    "ExecuteTime": {
     "end_time": "2024-03-03T07:18:34.290228Z",
     "start_time": "2024-03-03T07:18:34.260231300Z"
    }
   }
  },
  {
   "cell_type": "code",
   "execution_count": null,
   "outputs": [],
   "source": [
    "# 删除包含inf 的数据\n",
    "for name in inf_names:\n",
    "    inf_ids = data[data[name]==np.inf].index # 获取到包含inf值的行索引\n",
    "    data = data.drop(inf_ids)   # 删除对应行"
   ],
   "metadata": {
    "collapsed": false,
    "pycharm": {
     "name": "#%%\n"
    },
    "is_executing": true,
    "ExecuteTime": {
     "start_time": "2024-03-03T07:18:38.326395700Z"
    }
   }
  },
  {
   "cell_type": "code",
   "execution_count": 18,
   "outputs": [],
   "source": [
    "# 获取特征和目标\n",
    "x = data.iloc[:,:-1].astype(np.float64)\n",
    "y = data.iloc[:,-1]"
   ],
   "metadata": {
    "collapsed": false,
    "pycharm": {
     "name": "#%%\n"
    }
   }
  },
  {
   "cell_type": "code",
   "execution_count": 22,
   "outputs": [
    {
     "data": {
      "text/plain": "0.8209547303153544"
     },
     "execution_count": 22,
     "metadata": {},
     "output_type": "execute_result"
    }
   ],
   "source": [
    "x_train ,x_test,y_train,y_test = train_test_split(x,y,test_size=0.2,stratify=y,random_state=22)\n",
    "estimator = RandomForestClassifier(n_estimators=500,oob_score=True,random_state=22) # 创建随机森林对象 oob_score 返回out of bag数据的结果\n",
    "estimator.fit(x_train,y_train)\n",
    "estimator.score(x_test,y_test)  # 计算准确率\n",
    "from sklearn.metrics import accuracy_score\n"
   ],
   "metadata": {
    "collapsed": false,
    "pycharm": {
     "name": "#%%\n"
    }
   }
  },
  {
   "cell_type": "code",
   "execution_count": 23,
   "outputs": [
    {
     "data": {
      "text/plain": "0.8215434619551629"
     },
     "execution_count": 23,
     "metadata": {},
     "output_type": "execute_result"
    }
   ],
   "source": [
    "estimator.oob_score_"
   ],
   "metadata": {
    "collapsed": false,
    "pycharm": {
     "name": "#%%\n"
    }
   }
  },
  {
   "cell_type": "code",
   "execution_count": 24,
   "outputs": [
    {
     "name": "stdout",
     "output_type": "stream",
     "text": [
      "              precision    recall  f1-score   support\n",
      "\n",
      "           0       0.82      0.99      0.90     24689\n",
      "           1       0.37      0.02      0.03      5309\n",
      "\n",
      "    accuracy                           0.82     29998\n",
      "   macro avg       0.60      0.51      0.47     29998\n",
      "weighted avg       0.74      0.82      0.75     29998\n"
     ]
    }
   ],
   "source": [
    "from sklearn.metrics import classification_report\n",
    "y_pred = estimator.predict(x_test)\n",
    "accuracy_score(y_test,y_pred)\n",
    "print(classification_report(y_test,y_pred))  # 算 精准 召回和 F1score"
   ],
   "metadata": {
    "collapsed": false,
    "pycharm": {
     "name": "#%%\n"
    }
   }
  },
  {
   "cell_type": "code",
   "execution_count": 25,
   "outputs": [
    {
     "data": {
      "text/plain": "AdaBoostClassifier(n_estimators=500, random_state=22)"
     },
     "execution_count": 25,
     "metadata": {},
     "output_type": "execute_result"
    }
   ],
   "source": [
    "from sklearn.ensemble import AdaBoostClassifier\n",
    "estimator = AdaBoostClassifier(n_estimators=500,random_state=22)\n",
    "estimator.fit(x_train,y_train)"
   ],
   "metadata": {
    "collapsed": false,
    "pycharm": {
     "name": "#%%\n"
    }
   }
  },
  {
   "cell_type": "code",
   "execution_count": 27,
   "outputs": [
    {
     "data": {
      "text/plain": "0.8227881858790586"
     },
     "execution_count": 27,
     "metadata": {},
     "output_type": "execute_result"
    }
   ],
   "source": [
    "from sklearn.metrics import accuracy_score\n",
    "y_pred = estimator.predict(x_test)\n",
    "accuracy_score(y_test,y_pred)"
   ],
   "metadata": {
    "collapsed": false,
    "pycharm": {
     "name": "#%%\n"
    }
   }
  },
  {
   "cell_type": "code",
   "execution_count": 28,
   "outputs": [
    {
     "name": "stdout",
     "output_type": "stream",
     "text": [
      "              precision    recall  f1-score   support\n",
      "\n",
      "           0       0.82      1.00      0.90     24689\n",
      "           1       0.45      0.01      0.01      5309\n",
      "\n",
      "    accuracy                           0.82     29998\n",
      "   macro avg       0.64      0.50      0.46     29998\n",
      "weighted avg       0.76      0.82      0.75     29998\n"
     ]
    }
   ],
   "source": [
    "from sklearn.metrics import classification_report\n",
    "print(classification_report(y_test,y_pred))"
   ],
   "metadata": {
    "collapsed": false,
    "pycharm": {
     "name": "#%%\n"
    }
   }
  }
 ],
 "metadata": {
  "kernelspec": {
   "display_name": "Python 3",
   "language": "python",
   "name": "python3"
  },
  "language_info": {
   "codemirror_mode": {
    "name": "ipython",
    "version": 2
   },
   "file_extension": ".py",
   "mimetype": "text/x-python",
   "name": "python",
   "nbconvert_exporter": "python",
   "pygments_lexer": "ipython2",
   "version": "2.7.6"
  }
 },
 "nbformat": 4,
 "nbformat_minor": 0
}
