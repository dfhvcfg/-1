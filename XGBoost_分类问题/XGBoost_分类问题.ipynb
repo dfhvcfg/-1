{
 "cells": [
  {
   "cell_type": "code",
   "execution_count": 27,
   "metadata": {
    "collapsed": true,
    "ExecuteTime": {
     "end_time": "2024-03-05T13:27:21.092874200Z",
     "start_time": "2024-03-05T13:27:21.066271700Z"
    }
   },
   "outputs": [
    {
     "ename": "ModuleNotFoundError",
     "evalue": "No module named 'xgboost'",
     "output_type": "error",
     "traceback": [
      "\u001B[1;31m---------------------------------------------------------------------------\u001B[0m",
      "\u001B[1;31mModuleNotFoundError\u001B[0m                       Traceback (most recent call last)",
      "\u001B[1;32m<ipython-input-27-15d260aa24f5>\u001B[0m in \u001B[0;36m<module>\u001B[1;34m\u001B[0m\n\u001B[0;32m      1\u001B[0m \u001B[1;32mimport\u001B[0m \u001B[0mjoblib\u001B[0m\u001B[1;33m\u001B[0m\u001B[1;33m\u001B[0m\u001B[0m\n\u001B[0;32m      2\u001B[0m \u001B[1;32mimport\u001B[0m \u001B[0mnumpy\u001B[0m \u001B[1;32mas\u001B[0m \u001B[0mnp\u001B[0m\u001B[1;33m\u001B[0m\u001B[1;33m\u001B[0m\u001B[0m\n\u001B[1;32m----> 3\u001B[1;33m \u001B[1;32mimport\u001B[0m \u001B[0mxgboost\u001B[0m \u001B[1;32mas\u001B[0m \u001B[0mxgb\u001B[0m\u001B[1;33m\u001B[0m\u001B[1;33m\u001B[0m\u001B[0m\n\u001B[0m\u001B[0;32m      4\u001B[0m \u001B[1;32mimport\u001B[0m \u001B[0mpandas\u001B[0m \u001B[1;32mas\u001B[0m \u001B[0mpd\u001B[0m\u001B[1;33m\u001B[0m\u001B[1;33m\u001B[0m\u001B[0m\n\u001B[0;32m      5\u001B[0m \u001B[1;32mimport\u001B[0m \u001B[0mnumpy\u001B[0m \u001B[1;32mas\u001B[0m \u001B[0mnp\u001B[0m\u001B[1;33m\u001B[0m\u001B[1;33m\u001B[0m\u001B[0m\n",
      "\u001B[1;31mModuleNotFoundError\u001B[0m: No module named 'xgboost'"
     ]
    }
   ],
   "source": [
    "import joblib\n",
    "import numpy as np\n",
    "import xgboost as xgb\n",
    "import pandas as pd\n",
    "import numpy as np\n",
    "from collections import Counter\n",
    "from sklearn.model_selection import train_test_split\n",
    "from sklearn.metrics import classification_report\n",
    "from sklearn.model_selection import StratifiedKFold"
   ]
  },
  {
   "cell_type": "code",
   "execution_count": 26,
   "outputs": [],
   "source": [
    "def test01():\n",
    "\n",
    "    # 1. 加载训练数据\n",
    "    data = pd.read_csv('data/红酒品质分类.csv')\n",
    "    x = data.iloc[:, :-1]\n",
    "    y = data.iloc[:, -1] - 3  # 原始数据是从3开始的类别, 这里给它改成从0开始\n",
    "\n",
    "    # 2. 数据集分割\n",
    "    x_train, x_valid, y_train, y_valid = train_test_split(x, y, test_size=0.2, stratify=y, random_state=22)\n",
    "\n",
    "    # 3. 存储数据\n",
    "    pd.concat([x_train, y_train], axis=1).to_csv('data/红酒品质分类-train.csv')\n",
    "    pd.concat([x_valid, y_valid], axis=1).to_csv('data/红酒品质分类-valid.csv')"
   ],
   "metadata": {
    "collapsed": false,
    "pycharm": {
     "name": "#%%\n"
    },
    "ExecuteTime": {
     "end_time": "2024-03-05T13:27:18.188819600Z",
     "start_time": "2024-03-05T13:27:18.181282800Z"
    }
   }
  },
  {
   "cell_type": "code",
   "execution_count": 3,
   "outputs": [],
   "source": [
    "test01()"
   ],
   "metadata": {
    "collapsed": false,
    "pycharm": {
     "name": "#%%\n"
    }
   }
  },
  {
   "cell_type": "code",
   "execution_count": 4,
   "outputs": [],
   "source": [
    "data = pd.read_csv('data/红酒品质分类.csv')"
   ],
   "metadata": {
    "collapsed": false,
    "pycharm": {
     "name": "#%%\n"
    }
   }
  },
  {
   "cell_type": "code",
   "execution_count": 6,
   "outputs": [
    {
     "data": {
      "text/plain": "5    681\n6    638\n7    199\n4     53\n8     18\n3     10\nName: quality, dtype: int64"
     },
     "execution_count": 6,
     "metadata": {},
     "output_type": "execute_result"
    }
   ],
   "source": [
    "data['quality'].value_counts()"
   ],
   "metadata": {
    "collapsed": false,
    "pycharm": {
     "name": "#%%\n"
    }
   }
  },
  {
   "cell_type": "code",
   "execution_count": 15,
   "outputs": [],
   "source": [
    "train_data = pd.read_csv('data/红酒品质分类-train.csv')\n",
    "valid_data = pd.read_csv('data/红酒品质分类-valid.csv')\n",
    "\n",
    "x_train = train_data.iloc[:,:-1]\n",
    "y_train = train_data.iloc[:,-1] # 最后一列作为目标值\n",
    "\n",
    "x_valid = valid_data.iloc[:,:-1]\n",
    "y_valid = valid_data.iloc[:,-1]\n",
    "\n",
    "estimator = xgb.XGBClassifier(n_estimators = 100,\n",
    "                              objective = 'multi:softmax',\n",
    "                              eval_metric = 'merror',\n",
    "                              eta = 0.1,use_label_encoder = False,random_state = 22)\n",
    "estimator.fit(x_train,y_train)\n",
    "y_pred = estimator.predict(x_valid)\n",
    "from sklearn.utils import class_weight\n",
    "class_weights = class_weight.compute_sample_weight(class_weight='balanced',y=y_train)\n",
    "estimator.fit(x_train,y_train,sample_weight = class_weights)\n",
    "y_pred = estimator.predict(x_valid)"
   ],
   "metadata": {
    "collapsed": false,
    "pycharm": {
     "name": "#%%\n"
    }
   }
  },
  {
   "cell_type": "code",
   "execution_count": 16,
   "outputs": [
    {
     "name": "stdout",
     "output_type": "stream",
     "text": [
      "              precision    recall  f1-score   support\n",
      "\n",
      "           0       0.00      0.00      0.00         2\n",
      "           1       0.29      0.18      0.22        11\n",
      "           2       0.72      0.84      0.77       136\n",
      "           3       0.69      0.58      0.63       128\n",
      "           4       0.55      0.57      0.56        40\n",
      "           5       0.20      0.33      0.25         3\n",
      "\n",
      "    accuracy                           0.67       320\n",
      "   macro avg       0.41      0.42      0.41       320\n",
      "weighted avg       0.66      0.67      0.66       320\n"
     ]
    }
   ],
   "source": [
    "print(classification_report(y_valid,y_pred))"
   ],
   "metadata": {
    "collapsed": false,
    "pycharm": {
     "name": "#%%\n"
    }
   }
  },
  {
   "cell_type": "code",
   "execution_count": 19,
   "outputs": [
    {
     "name": "stdout",
     "output_type": "stream",
     "text": [
      "              precision    recall  f1-score   support\n",
      "\n",
      "           0       0.00      0.00      0.00         2\n",
      "           1       0.00      0.00      0.00        11\n",
      "           2       0.69      0.83      0.76       136\n",
      "           3       0.65      0.58      0.61       128\n",
      "           4       0.60      0.60      0.60        40\n",
      "           5       0.50      0.33      0.40         3\n",
      "\n",
      "    accuracy                           0.66       320\n",
      "   macro avg       0.41      0.39      0.39       320\n",
      "weighted avg       0.64      0.66      0.65       320\n"
     ]
    },
    {
     "name": "stderr",
     "output_type": "stream",
     "text": [
      "/root/anaconda3/lib/python3.8/site-packages/sklearn/metrics/_classification.py:1221: UndefinedMetricWarning: Precision and F-score are ill-defined and being set to 0.0 in labels with no predicted samples. Use `zero_division` parameter to control this behavior.\n",
      "  _warn_prf(average, modifier, msg_start, len(result))\n"
     ]
    }
   ],
   "source": [
    "from sklearn.model_selection import GridSearchCV\n",
    "# 交叉验证网格搜索\n",
    "# 交叉验证，网格搜索\n",
    "train_data = pd.read_csv('data/红酒品质分类-train.csv')\n",
    "valid_data = pd.read_csv('data/红酒品质分类-valid.csv')\n",
    "\n",
    "# 训练集\n",
    "x_train = train_data.iloc[:, :-1]\n",
    "y_train = train_data.iloc[:, -1]\n",
    "\n",
    "# 测试集\n",
    "x_valid = valid_data.iloc[:, :-1]\n",
    "y_valid = valid_data.iloc[:, -1]\n",
    "\n",
    "spliter = StratifiedKFold(n_splits=5,shuffle=True,random_state=10) # 跟GridSearchCV配合使用 比直接cv=5效果要更好\n",
    "param_grid = {'max_depth': np.arange(3, 5, 1),\n",
    "              'n_estimators': np.arange(50, 150, 50),\n",
    "              'eta': np.arange(0.1, 1, 0.3)}\n",
    "estimator = xgb.XGBClassifier(n_estimators=100,  # 学习器数量\n",
    "                              objective='multi:softmax', #目标函数 多分类 softmax\n",
    "                              eval_metric='merror', # 多分类错误率\n",
    "                              eta=0.1,  #实际上就是learnign rate alpha正则项\n",
    "                              use_label_encoder=False, #是不是顺序编码  label encoder  one-hot encoder\n",
    "                              random_state=22)\n",
    "cv = GridSearchCV(estimator,param_grid,cv=spliter)\n",
    "cv.fit(x_train,y_train)\n",
    "y_pred = cv.predict(x_valid)\n",
    "print(classification_report(y_true=y_valid, y_pred=y_pred))"
   ],
   "metadata": {
    "collapsed": false,
    "pycharm": {
     "name": "#%%\n"
    }
   }
  },
  {
   "cell_type": "code",
   "execution_count": 20,
   "outputs": [
    {
     "data": {
      "text/plain": "{'eta': 0.7000000000000001, 'max_depth': 4, 'n_estimators': 100}"
     },
     "execution_count": 20,
     "metadata": {},
     "output_type": "execute_result"
    }
   ],
   "source": [
    "cv.best_params_"
   ],
   "metadata": {
    "collapsed": false,
    "pycharm": {
     "name": "#%%\n"
    }
   }
  }
 ],
 "metadata": {
  "kernelspec": {
   "display_name": "Python 3",
   "language": "python",
   "name": "python3"
  },
  "language_info": {
   "codemirror_mode": {
    "name": "ipython",
    "version": 2
   },
   "file_extension": ".py",
   "mimetype": "text/x-python",
   "name": "python",
   "nbconvert_exporter": "python",
   "pygments_lexer": "ipython2",
   "version": "2.7.6"
  }
 },
 "nbformat": 4,
 "nbformat_minor": 0
}
