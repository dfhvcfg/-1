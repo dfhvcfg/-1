{
 "cells": [
  {
   "cell_type": "code",
   "execution_count": 8,
   "metadata": {},
   "outputs": [],
   "source": [
    "import pandas as pd\n",
    "import seaborn as sns\n",
    "import matplotlib.pyplot as plt"
   ]
  },
  {
   "cell_type": "code",
   "execution_count": 9,
   "metadata": {
    "pycharm": {
     "name": "#%%\n"
    }
   },
   "outputs": [],
   "source": [
    "churn = pd.read_csv('churn.csv')"
   ]
  },
  {
   "cell_type": "code",
   "execution_count": 10,
   "metadata": {
    "pycharm": {
     "name": "#%%\n"
    }
   },
   "outputs": [
    {
     "name": "stdout",
     "output_type": "stream",
     "text": [
      "<class 'pandas.core.frame.DataFrame'>\n",
      "RangeIndex: 7043 entries, 0 to 7042\n",
      "Data columns (total 16 columns):\n",
      " #   Column             Non-Null Count  Dtype  \n",
      "---  ------             --------------  -----  \n",
      " 0   Churn              7043 non-null   object \n",
      " 1   gender             7043 non-null   object \n",
      " 2   Partner_att        7043 non-null   int64  \n",
      " 3   Dependents_att     7043 non-null   int64  \n",
      " 4   landline           7043 non-null   int64  \n",
      " 5   internet_att       7043 non-null   int64  \n",
      " 6   internet_other     7043 non-null   int64  \n",
      " 7   StreamingTV        7043 non-null   int64  \n",
      " 8   StreamingMovies    7043 non-null   int64  \n",
      " 9   Contract_Month     7043 non-null   int64  \n",
      " 10  Contract_1YR       7043 non-null   int64  \n",
      " 11  PaymentBank        7043 non-null   int64  \n",
      " 12  PaymentCreditcard  7043 non-null   int64  \n",
      " 13  PaymentElectronic  7043 non-null   int64  \n",
      " 14  MonthlyCharges     7043 non-null   float64\n",
      " 15  TotalCharges       7043 non-null   float64\n",
      "dtypes: float64(2), int64(12), object(2)\n",
      "memory usage: 880.5+ KB\n"
     ]
    }
   ],
   "source": [
    "churn.info()"
   ]
  },
  {
   "cell_type": "code",
   "execution_count": 11,
   "metadata": {
    "pycharm": {
     "name": "#%%\n"
    }
   },
   "outputs": [
    {
     "data": {
      "text/plain": "       Partner_att  Dependents_att     landline  internet_att  internet_other  \\\ncount  7043.000000     7043.000000  7043.000000   7043.000000     7043.000000   \nmean      0.483033        0.299588     0.903166      0.343746        0.439585   \nstd       0.499748        0.458110     0.295752      0.474991        0.496372   \nmin       0.000000        0.000000     0.000000      0.000000        0.000000   \n25%       0.000000        0.000000     1.000000      0.000000        0.000000   \n50%       0.000000        0.000000     1.000000      0.000000        0.000000   \n75%       1.000000        1.000000     1.000000      1.000000        1.000000   \nmax       1.000000        1.000000     1.000000      1.000000        1.000000   \n\n       StreamingTV  StreamingMovies  Contract_Month  Contract_1YR  \\\ncount  7043.000000      7043.000000     7043.000000   7043.000000   \nmean      0.384353         0.387903        0.550192      0.209144   \nstd       0.486477         0.487307        0.497510      0.406726   \nmin       0.000000         0.000000        0.000000      0.000000   \n25%       0.000000         0.000000        0.000000      0.000000   \n50%       0.000000         0.000000        1.000000      0.000000   \n75%       1.000000         1.000000        1.000000      0.000000   \nmax       1.000000         1.000000        1.000000      1.000000   \n\n       PaymentBank  PaymentCreditcard  PaymentElectronic  MonthlyCharges  \\\ncount  7043.000000        7043.000000        7043.000000     7043.000000   \nmean      0.219225           0.216101           0.335794       64.761692   \nstd       0.413751           0.411613           0.472301       30.090047   \nmin       0.000000           0.000000           0.000000       18.250000   \n25%       0.000000           0.000000           0.000000       35.500000   \n50%       0.000000           0.000000           0.000000       70.350000   \n75%       0.000000           0.000000           1.000000       89.850000   \nmax       1.000000           1.000000           1.000000      118.750000   \n\n       TotalCharges  \ncount   7043.000000  \nmean    2275.929881  \nstd     2266.920469  \nmin       18.800000  \n25%      392.575000  \n50%     1389.850000  \n75%     3778.525000  \nmax     8684.800000  ",
      "text/html": "<div>\n<style scoped>\n    .dataframe tbody tr th:only-of-type {\n        vertical-align: middle;\n    }\n\n    .dataframe tbody tr th {\n        vertical-align: top;\n    }\n\n    .dataframe thead th {\n        text-align: right;\n    }\n</style>\n<table border=\"1\" class=\"dataframe\">\n  <thead>\n    <tr style=\"text-align: right;\">\n      <th></th>\n      <th>Partner_att</th>\n      <th>Dependents_att</th>\n      <th>landline</th>\n      <th>internet_att</th>\n      <th>internet_other</th>\n      <th>StreamingTV</th>\n      <th>StreamingMovies</th>\n      <th>Contract_Month</th>\n      <th>Contract_1YR</th>\n      <th>PaymentBank</th>\n      <th>PaymentCreditcard</th>\n      <th>PaymentElectronic</th>\n      <th>MonthlyCharges</th>\n      <th>TotalCharges</th>\n    </tr>\n  </thead>\n  <tbody>\n    <tr>\n      <th>count</th>\n      <td>7043.000000</td>\n      <td>7043.000000</td>\n      <td>7043.000000</td>\n      <td>7043.000000</td>\n      <td>7043.000000</td>\n      <td>7043.000000</td>\n      <td>7043.000000</td>\n      <td>7043.000000</td>\n      <td>7043.000000</td>\n      <td>7043.000000</td>\n      <td>7043.000000</td>\n      <td>7043.000000</td>\n      <td>7043.000000</td>\n      <td>7043.000000</td>\n    </tr>\n    <tr>\n      <th>mean</th>\n      <td>0.483033</td>\n      <td>0.299588</td>\n      <td>0.903166</td>\n      <td>0.343746</td>\n      <td>0.439585</td>\n      <td>0.384353</td>\n      <td>0.387903</td>\n      <td>0.550192</td>\n      <td>0.209144</td>\n      <td>0.219225</td>\n      <td>0.216101</td>\n      <td>0.335794</td>\n      <td>64.761692</td>\n      <td>2275.929881</td>\n    </tr>\n    <tr>\n      <th>std</th>\n      <td>0.499748</td>\n      <td>0.458110</td>\n      <td>0.295752</td>\n      <td>0.474991</td>\n      <td>0.496372</td>\n      <td>0.486477</td>\n      <td>0.487307</td>\n      <td>0.497510</td>\n      <td>0.406726</td>\n      <td>0.413751</td>\n      <td>0.411613</td>\n      <td>0.472301</td>\n      <td>30.090047</td>\n      <td>2266.920469</td>\n    </tr>\n    <tr>\n      <th>min</th>\n      <td>0.000000</td>\n      <td>0.000000</td>\n      <td>0.000000</td>\n      <td>0.000000</td>\n      <td>0.000000</td>\n      <td>0.000000</td>\n      <td>0.000000</td>\n      <td>0.000000</td>\n      <td>0.000000</td>\n      <td>0.000000</td>\n      <td>0.000000</td>\n      <td>0.000000</td>\n      <td>18.250000</td>\n      <td>18.800000</td>\n    </tr>\n    <tr>\n      <th>25%</th>\n      <td>0.000000</td>\n      <td>0.000000</td>\n      <td>1.000000</td>\n      <td>0.000000</td>\n      <td>0.000000</td>\n      <td>0.000000</td>\n      <td>0.000000</td>\n      <td>0.000000</td>\n      <td>0.000000</td>\n      <td>0.000000</td>\n      <td>0.000000</td>\n      <td>0.000000</td>\n      <td>35.500000</td>\n      <td>392.575000</td>\n    </tr>\n    <tr>\n      <th>50%</th>\n      <td>0.000000</td>\n      <td>0.000000</td>\n      <td>1.000000</td>\n      <td>0.000000</td>\n      <td>0.000000</td>\n      <td>0.000000</td>\n      <td>0.000000</td>\n      <td>1.000000</td>\n      <td>0.000000</td>\n      <td>0.000000</td>\n      <td>0.000000</td>\n      <td>0.000000</td>\n      <td>70.350000</td>\n      <td>1389.850000</td>\n    </tr>\n    <tr>\n      <th>75%</th>\n      <td>1.000000</td>\n      <td>1.000000</td>\n      <td>1.000000</td>\n      <td>1.000000</td>\n      <td>1.000000</td>\n      <td>1.000000</td>\n      <td>1.000000</td>\n      <td>1.000000</td>\n      <td>0.000000</td>\n      <td>0.000000</td>\n      <td>0.000000</td>\n      <td>1.000000</td>\n      <td>89.850000</td>\n      <td>3778.525000</td>\n    </tr>\n    <tr>\n      <th>max</th>\n      <td>1.000000</td>\n      <td>1.000000</td>\n      <td>1.000000</td>\n      <td>1.000000</td>\n      <td>1.000000</td>\n      <td>1.000000</td>\n      <td>1.000000</td>\n      <td>1.000000</td>\n      <td>1.000000</td>\n      <td>1.000000</td>\n      <td>1.000000</td>\n      <td>1.000000</td>\n      <td>118.750000</td>\n      <td>8684.800000</td>\n    </tr>\n  </tbody>\n</table>\n</div>"
     },
     "execution_count": 11,
     "metadata": {},
     "output_type": "execute_result"
    }
   ],
   "source": [
    "churn.describe()"
   ]
  },
  {
   "cell_type": "code",
   "execution_count": 12,
   "metadata": {
    "pycharm": {
     "name": "#%%\n"
    }
   },
   "outputs": [
    {
     "data": {
      "text/plain": "   Partner_att  Dependents_att  landline  internet_att  internet_other  \\\n0            1               0         0             1               0   \n1            0               0         1             1               0   \n2            0               0         1             1               0   \n3            0               0         0             1               0   \n4            0               0         1             0               1   \n\n   StreamingTV  StreamingMovies  Contract_Month  Contract_1YR  PaymentBank  \\\n0            0                0               1             0            0   \n1            0                0               0             1            0   \n2            0                0               1             0            0   \n3            0                0               0             1            1   \n4            0                0               1             0            0   \n\n   PaymentCreditcard  PaymentElectronic  MonthlyCharges  TotalCharges  \\\n0                  0                  1           29.85         29.85   \n1                  0                  0           56.95       1889.50   \n2                  0                  0           53.85        108.15   \n3                  0                  0           42.30       1840.75   \n4                  0                  1           70.70        151.65   \n\n   Churn_No  Churn_Yes  gender_Female  gender_Male  \n0         1          0              1            0  \n1         1          0              0            1  \n2         0          1              0            1  \n3         1          0              0            1  \n4         0          1              1            0  ",
      "text/html": "<div>\n<style scoped>\n    .dataframe tbody tr th:only-of-type {\n        vertical-align: middle;\n    }\n\n    .dataframe tbody tr th {\n        vertical-align: top;\n    }\n\n    .dataframe thead th {\n        text-align: right;\n    }\n</style>\n<table border=\"1\" class=\"dataframe\">\n  <thead>\n    <tr style=\"text-align: right;\">\n      <th></th>\n      <th>Partner_att</th>\n      <th>Dependents_att</th>\n      <th>landline</th>\n      <th>internet_att</th>\n      <th>internet_other</th>\n      <th>StreamingTV</th>\n      <th>StreamingMovies</th>\n      <th>Contract_Month</th>\n      <th>Contract_1YR</th>\n      <th>PaymentBank</th>\n      <th>PaymentCreditcard</th>\n      <th>PaymentElectronic</th>\n      <th>MonthlyCharges</th>\n      <th>TotalCharges</th>\n      <th>Churn_No</th>\n      <th>Churn_Yes</th>\n      <th>gender_Female</th>\n      <th>gender_Male</th>\n    </tr>\n  </thead>\n  <tbody>\n    <tr>\n      <th>0</th>\n      <td>1</td>\n      <td>0</td>\n      <td>0</td>\n      <td>1</td>\n      <td>0</td>\n      <td>0</td>\n      <td>0</td>\n      <td>1</td>\n      <td>0</td>\n      <td>0</td>\n      <td>0</td>\n      <td>1</td>\n      <td>29.85</td>\n      <td>29.85</td>\n      <td>1</td>\n      <td>0</td>\n      <td>1</td>\n      <td>0</td>\n    </tr>\n    <tr>\n      <th>1</th>\n      <td>0</td>\n      <td>0</td>\n      <td>1</td>\n      <td>1</td>\n      <td>0</td>\n      <td>0</td>\n      <td>0</td>\n      <td>0</td>\n      <td>1</td>\n      <td>0</td>\n      <td>0</td>\n      <td>0</td>\n      <td>56.95</td>\n      <td>1889.50</td>\n      <td>1</td>\n      <td>0</td>\n      <td>0</td>\n      <td>1</td>\n    </tr>\n    <tr>\n      <th>2</th>\n      <td>0</td>\n      <td>0</td>\n      <td>1</td>\n      <td>1</td>\n      <td>0</td>\n      <td>0</td>\n      <td>0</td>\n      <td>1</td>\n      <td>0</td>\n      <td>0</td>\n      <td>0</td>\n      <td>0</td>\n      <td>53.85</td>\n      <td>108.15</td>\n      <td>0</td>\n      <td>1</td>\n      <td>0</td>\n      <td>1</td>\n    </tr>\n    <tr>\n      <th>3</th>\n      <td>0</td>\n      <td>0</td>\n      <td>0</td>\n      <td>1</td>\n      <td>0</td>\n      <td>0</td>\n      <td>0</td>\n      <td>0</td>\n      <td>1</td>\n      <td>1</td>\n      <td>0</td>\n      <td>0</td>\n      <td>42.30</td>\n      <td>1840.75</td>\n      <td>1</td>\n      <td>0</td>\n      <td>0</td>\n      <td>1</td>\n    </tr>\n    <tr>\n      <th>4</th>\n      <td>0</td>\n      <td>0</td>\n      <td>1</td>\n      <td>0</td>\n      <td>1</td>\n      <td>0</td>\n      <td>0</td>\n      <td>1</td>\n      <td>0</td>\n      <td>0</td>\n      <td>0</td>\n      <td>1</td>\n      <td>70.70</td>\n      <td>151.65</td>\n      <td>0</td>\n      <td>1</td>\n      <td>1</td>\n      <td>0</td>\n    </tr>\n  </tbody>\n</table>\n</div>"
     },
     "execution_count": 12,
     "metadata": {},
     "output_type": "execute_result"
    }
   ],
   "source": [
    "# 类别型特征转换成数值型的特征  one-hot 编码\n",
    "churn = pd.get_dummies(churn)\n",
    "churn.head()"
   ]
  },
  {
   "cell_type": "code",
   "execution_count": 13,
   "metadata": {
    "pycharm": {
     "name": "#%%\n"
    }
   },
   "outputs": [],
   "source": [
    "churn1 = churn.drop(['Churn_No','gender_Male'],axis = 1)"
   ]
  },
  {
   "cell_type": "code",
   "execution_count": 14,
   "metadata": {
    "pycharm": {
     "name": "#%%\n"
    }
   },
   "outputs": [],
   "source": [
    "churn1.columns = churn1.columns.str.lower()"
   ]
  },
  {
   "cell_type": "code",
   "execution_count": 15,
   "metadata": {
    "pycharm": {
     "name": "#%%\n"
    }
   },
   "outputs": [],
   "source": [
    "churn1 = churn1.rename(columns = {'churn_yes':'flag'})"
   ]
  },
  {
   "cell_type": "code",
   "execution_count": 16,
   "metadata": {
    "pycharm": {
     "name": "#%%\n"
    }
   },
   "outputs": [
    {
     "data": {
      "text/plain": "0    0.73463\n1    0.26537\nName: flag, dtype: float64"
     },
     "execution_count": 16,
     "metadata": {},
     "output_type": "execute_result"
    }
   ],
   "source": [
    "#  分类问题, 看标签的分布, 是不是不均衡的数据集\n",
    "churn1.flag.value_counts(1)"
   ]
  },
  {
   "cell_type": "code",
   "execution_count": 17,
   "metadata": {
    "pycharm": {
     "name": "#%%\n"
    }
   },
   "outputs": [
    {
     "data": {
      "text/plain": "      partner_att  dependents_att  landline  internet_att  internet_other  \\\nflag                                                                        \n0        0.528218        0.344801  0.901044      0.379204        0.347700   \n1        0.357945        0.174425  0.909042      0.245586        0.693954   \n\n      streamingtv  streamingmovies  contract_month  contract_1yr  paymentbank  \\\nflag                                                                            \n0        0.365868         0.369927        0.429068      0.252609     0.248550   \n1        0.435527         0.437667        0.885500      0.088818     0.138042   \n\n      paymentcreditcard  paymentelectronic  monthlycharges  totalcharges  \\\nflag                                                                       \n0              0.249324           0.250097       61.265124   2545.918081   \n1              0.124131           0.573034       74.441332   1528.514714   \n\n      gender_female  \nflag                 \n0          0.492656  \n1          0.502408  ",
      "text/html": "<div>\n<style scoped>\n    .dataframe tbody tr th:only-of-type {\n        vertical-align: middle;\n    }\n\n    .dataframe tbody tr th {\n        vertical-align: top;\n    }\n\n    .dataframe thead th {\n        text-align: right;\n    }\n</style>\n<table border=\"1\" class=\"dataframe\">\n  <thead>\n    <tr style=\"text-align: right;\">\n      <th></th>\n      <th>partner_att</th>\n      <th>dependents_att</th>\n      <th>landline</th>\n      <th>internet_att</th>\n      <th>internet_other</th>\n      <th>streamingtv</th>\n      <th>streamingmovies</th>\n      <th>contract_month</th>\n      <th>contract_1yr</th>\n      <th>paymentbank</th>\n      <th>paymentcreditcard</th>\n      <th>paymentelectronic</th>\n      <th>monthlycharges</th>\n      <th>totalcharges</th>\n      <th>gender_female</th>\n    </tr>\n    <tr>\n      <th>flag</th>\n      <th></th>\n      <th></th>\n      <th></th>\n      <th></th>\n      <th></th>\n      <th></th>\n      <th></th>\n      <th></th>\n      <th></th>\n      <th></th>\n      <th></th>\n      <th></th>\n      <th></th>\n      <th></th>\n      <th></th>\n    </tr>\n  </thead>\n  <tbody>\n    <tr>\n      <th>0</th>\n      <td>0.528218</td>\n      <td>0.344801</td>\n      <td>0.901044</td>\n      <td>0.379204</td>\n      <td>0.347700</td>\n      <td>0.365868</td>\n      <td>0.369927</td>\n      <td>0.429068</td>\n      <td>0.252609</td>\n      <td>0.248550</td>\n      <td>0.249324</td>\n      <td>0.250097</td>\n      <td>61.265124</td>\n      <td>2545.918081</td>\n      <td>0.492656</td>\n    </tr>\n    <tr>\n      <th>1</th>\n      <td>0.357945</td>\n      <td>0.174425</td>\n      <td>0.909042</td>\n      <td>0.245586</td>\n      <td>0.693954</td>\n      <td>0.435527</td>\n      <td>0.437667</td>\n      <td>0.885500</td>\n      <td>0.088818</td>\n      <td>0.138042</td>\n      <td>0.124131</td>\n      <td>0.573034</td>\n      <td>74.441332</td>\n      <td>1528.514714</td>\n      <td>0.502408</td>\n    </tr>\n  </tbody>\n</table>\n</div>"
     },
     "execution_count": 17,
     "metadata": {},
     "output_type": "execute_result"
    }
   ],
   "source": [
    "churn1.groupby('flag').mean()  # 特征在不同的标签上 表现有差异, 这样的特征就是好的特征"
   ]
  },
  {
   "cell_type": "code",
   "execution_count": 18,
   "metadata": {
    "pycharm": {
     "name": "#%%\n"
    }
   },
   "outputs": [
    {
     "data": {
      "text/plain": "<AxesSubplot:xlabel='count', ylabel='contract_month'>"
     },
     "execution_count": 18,
     "metadata": {},
     "output_type": "execute_result"
    },
    {
     "data": {
      "text/plain": "<Figure size 432x288 with 1 Axes>",
      "image/png": "[encoded data removed]"
     },
     "metadata": {
      "needs_background": "light"
     },
     "output_type": "display_data"
    }
   ],
   "source": [
    "sns.countplot(y='contract_month',hue = 'flag',data = churn1)"
   ]
  },
  {
   "cell_type": "code",
   "execution_count": 19,
   "metadata": {
    "pycharm": {
     "name": "#%%\n"
    }
   },
   "outputs": [
    {
     "data": {
      "text/plain": "<AxesSubplot:xlabel='count', ylabel='internet_other'>"
     },
     "execution_count": 19,
     "metadata": {},
     "output_type": "execute_result"
    },
    {
     "data": {
      "text/plain": "<Figure size 432x288 with 1 Axes>",
      "image/png": "[encoded data removed]"
     },
     "metadata": {
      "needs_background": "light"
     },
     "output_type": "display_data"
    }
   ],
   "source": [
    "sns.countplot(y='internet_other',hue = 'flag',data = churn1)"
   ]
  },
  {
   "cell_type": "code",
   "execution_count": 20,
   "metadata": {
    "pycharm": {
     "name": "#%%\n"
    }
   },
   "outputs": [
    {
     "data": {
      "text/plain": "<AxesSubplot:xlabel='count', ylabel='landline'>"
     },
     "execution_count": 20,
     "metadata": {},
     "output_type": "execute_result"
    },
    {
     "data": {
      "text/plain": "<Figure size 432x288 with 1 Axes>",
      "image/png": "[encoded data removed]"
     },
     "metadata": {
      "needs_background": "light"
     },
     "output_type": "display_data"
    }
   ],
   "source": [
    "sns.countplot(y='landline',hue = 'flag',data = churn1)"
   ]
  },
  {
   "cell_type": "code",
   "execution_count": 21,
   "metadata": {
    "pycharm": {
     "name": "#%%\n"
    }
   },
   "outputs": [
    {
     "data": {
      "text/plain": "<AxesSubplot:xlabel='landline', ylabel='count'>"
     },
     "execution_count": 21,
     "metadata": {},
     "output_type": "execute_result"
    },
    {
     "data": {
      "text/plain": "<Figure size 432x288 with 1 Axes>",
      "image/png": "[encoded data removed]"
     },
     "metadata": {
      "needs_background": "light"
     },
     "output_type": "display_data"
    }
   ],
   "source": [
    "sns.countplot(x='landline',hue = 'flag',data = churn1)"
   ]
  },
  {
   "cell_type": "code",
   "execution_count": 23,
   "metadata": {
    "pycharm": {
     "name": "#%%\n"
    }
   },
   "outputs": [
    {
     "data": {
      "text/plain": "LogisticRegression()"
     },
     "execution_count": 23,
     "metadata": {},
     "output_type": "execute_result"
    }
   ],
   "source": [
    "# 挑选特征进行建模\n",
    "y = churn1['flag']\n",
    "x = churn1[['contract_month','internet_other','paymentelectronic']]\n",
    "from sklearn.model_selection import train_test_split\n",
    "x_train,x_test,y_train,y_test = train_test_split(x,y,test_size=0.3,random_state=100)\n",
    "from sklearn.linear_model import LogisticRegression\n",
    "lr = LogisticRegression() # 使用逻辑回归建模\n",
    "lr.fit(x_train,y_train)"
   ]
  },
  {
   "cell_type": "code",
   "execution_count": 25,
   "metadata": {
    "pycharm": {
     "name": "#%%\n"
    }
   },
   "outputs": [],
   "source": [
    "# 模型评估\n",
    "y_pred_train = lr.predict(x_train)\n",
    "y_pred_test = lr.predict(x_test)\n",
    "from sklearn.metrics import accuracy_score\n",
    "accuracy_score(y_pred_train,y_train)"
   ]
  },
  {
   "cell_type": "code",
   "execution_count": 21,
   "metadata": {
    "pycharm": {
     "name": "#%%\n"
    }
   },
   "outputs": [
    {
     "data": {
      "text/plain": [
       "0.7624230951254141"
      ]
     },
     "execution_count": 21,
     "metadata": {},
     "output_type": "execute_result"
    }
   ],
   "source": [
    "accuracy_score(y_pred_test,y_test)"
   ]
  },
  {
   "cell_type": "code",
   "execution_count": 24,
   "metadata": {
    "pycharm": {
     "name": "#%%\n"
    }
   },
   "outputs": [
    {
     "data": {
      "text/plain": [
       "0.6472872378089588"
      ]
     },
     "execution_count": 24,
     "metadata": {},
     "output_type": "execute_result"
    }
   ],
   "source": [
    "from sklearn.metrics import roc_auc_score\n",
    "roc_auc_score(y_test,y_pred_test)"
   ]
  },
  {
   "cell_type": "code",
   "execution_count": 25,
   "metadata": {
    "pycharm": {
     "name": "#%%\n"
    }
   },
   "outputs": [
    {
     "data": {
      "text/plain": [
       "0.6669635362478181"
      ]
     },
     "execution_count": 25,
     "metadata": {},
     "output_type": "execute_result"
    }
   ],
   "source": [
    "roc_auc_score(y_train,y_pred_train)"
   ]
  },
  {
   "cell_type": "code",
   "execution_count": 35,
   "metadata": {
    "pycharm": {
     "name": "#%%\n"
    }
   },
   "outputs": [
    {
     "data": {
      "text/plain": [
       "0.7273275986121549"
      ]
     },
     "execution_count": 35,
     "metadata": {},
     "output_type": "execute_result"
    }
   ],
   "source": [
    "lr = LogisticRegression(class_weight='balanced') # 使用逻辑回归建模\n",
    "lr.fit(x_train,y_train)\n",
    "y_pred_train = lr.predict(x_train)\n",
    "y_pred_test = lr.predict(x_test)\n",
    "roc_auc_score(y_test,y_pred_test)"
   ]
  },
  {
   "cell_type": "code",
   "execution_count": 27,
   "metadata": {
    "pycharm": {
     "name": "#%%\n"
    }
   },
   "outputs": [
    {
     "data": {
      "text/plain": [
       "0.7449819413154645"
      ]
     },
     "execution_count": 27,
     "metadata": {},
     "output_type": "execute_result"
    }
   ],
   "source": [
    "roc_auc_score(y_train,y_pred_train)"
   ]
  },
  {
   "cell_type": "code",
   "execution_count": 29,
   "metadata": {
    "pycharm": {
     "name": "#%%\n"
    }
   },
   "outputs": [
    {
     "data": {
      "text/plain": [
       "GridSearchCV(cv=StratifiedKFold(n_splits=5, random_state=None, shuffle=True),\n",
       "             estimator=LogisticRegression(),\n",
       "             param_grid={'C': [0.001, 0.01, 1, 10, 100],\n",
       "                         'class_weight': ['balanced'],\n",
       "                         'solver': ['newton-cg', 'lbfgs', 'liblinear']})"
      ]
     },
     "execution_count": 29,
     "metadata": {},
     "output_type": "execute_result"
    }
   ],
   "source": [
    "from sklearn.model_selection import StratifiedKFold\n",
    "from sklearn.model_selection import GridSearchCV\n",
    "kfold = StratifiedKFold(n_splits=5,shuffle=True)\n",
    "lr = LogisticRegression()\n",
    "param_grid = {'solver': ['newton-cg', 'lbfgs', 'liblinear'],\n",
    "              'C': [0.001, 0.01, 1, 10, 100],'class_weight':['balanced']}\n",
    "search = GridSearchCV(lr,param_grid,cv = kfold)\n",
    "search.fit(x_train,y_train)"
   ]
  },
  {
   "cell_type": "code",
   "execution_count": 30,
   "metadata": {
    "pycharm": {
     "name": "#%%\n"
    }
   },
   "outputs": [
    {
     "data": {
      "text/plain": [
       "{'C': 0.01, 'class_weight': 'balanced', 'solver': 'newton-cg'}"
      ]
     },
     "execution_count": 30,
     "metadata": {},
     "output_type": "execute_result"
    }
   ],
   "source": [
    "search.best_params_"
   ]
  },
  {
   "cell_type": "code",
   "execution_count": 31,
   "metadata": {
    "pycharm": {
     "name": "#%%\n"
    }
   },
   "outputs": [
    {
     "data": {
      "text/plain": [
       "0.7503042596348886"
      ]
     },
     "execution_count": 31,
     "metadata": {},
     "output_type": "execute_result"
    }
   ],
   "source": [
    "search.best_score_"
   ]
  },
  {
   "cell_type": "code",
   "execution_count": 32,
   "metadata": {
    "pycharm": {
     "name": "#%%\n"
    }
   },
   "outputs": [
    {
     "data": {
      "text/plain": [
       "{'mean_fit_time': array([0.01227007, 0.00779786, 0.00437031, 0.01339326, 0.007307  ,\n",
       "        0.00450845, 0.01882086, 0.00922184, 0.0051652 , 0.01456828,\n",
       "        0.00877633, 0.00511103, 0.014712  , 0.00922079, 0.00480947]),\n",
       " 'std_fit_time': array([2.25782901e-03, 2.39480419e-03, 5.26191470e-04, 1.58815629e-03,\n",
       "        3.04989437e-04, 2.27911971e-04, 2.60860764e-03, 6.32310622e-04,\n",
       "        2.59722944e-04, 2.73084149e-03, 1.44975226e-03, 2.72922962e-04,\n",
       "        9.23374880e-04, 1.14558747e-03, 7.91108054e-05]),\n",
       " 'mean_score_time': array([0.00144167, 0.00152998, 0.00138912, 0.00150914, 0.00132656,\n",
       "        0.00147753, 0.00186119, 0.0016099 , 0.00154705, 0.00147176,\n",
       "        0.00149226, 0.00149283, 0.00170784, 0.00149798, 0.00143638]),\n",
       " 'std_score_time': array([1.53799862e-04, 2.02978629e-04, 1.29773981e-04, 1.73165920e-04,\n",
       "        1.28458727e-04, 1.06493805e-04, 4.92336008e-04, 1.22053883e-04,\n",
       "        1.17882922e-04, 1.14287233e-04, 1.97363182e-04, 7.50309897e-05,\n",
       "        6.23684436e-04, 1.05533770e-04, 2.75133801e-05]),\n",
       " 'param_C': masked_array(data=[0.001, 0.001, 0.001, 0.01, 0.01, 0.01, 1, 1, 1, 10, 10,\n",
       "                    10, 100, 100, 100],\n",
       "              mask=[False, False, False, False, False, False, False, False,\n",
       "                    False, False, False, False, False, False, False],\n",
       "        fill_value='?',\n",
       "             dtype=object),\n",
       " 'param_class_weight': masked_array(data=['balanced', 'balanced', 'balanced', 'balanced',\n",
       "                    'balanced', 'balanced', 'balanced', 'balanced',\n",
       "                    'balanced', 'balanced', 'balanced', 'balanced',\n",
       "                    'balanced', 'balanced', 'balanced'],\n",
       "              mask=[False, False, False, False, False, False, False, False,\n",
       "                    False, False, False, False, False, False, False],\n",
       "        fill_value='?',\n",
       "             dtype=object),\n",
       " 'param_solver': masked_array(data=['newton-cg', 'lbfgs', 'liblinear', 'newton-cg',\n",
       "                    'lbfgs', 'liblinear', 'newton-cg', 'lbfgs',\n",
       "                    'liblinear', 'newton-cg', 'lbfgs', 'liblinear',\n",
       "                    'newton-cg', 'lbfgs', 'liblinear'],\n",
       "              mask=[False, False, False, False, False, False, False, False,\n",
       "                    False, False, False, False, False, False, False],\n",
       "        fill_value='?',\n",
       "             dtype=object),\n",
       " 'params': [{'C': 0.001, 'class_weight': 'balanced', 'solver': 'newton-cg'},\n",
       "  {'C': 0.001, 'class_weight': 'balanced', 'solver': 'lbfgs'},\n",
       "  {'C': 0.001, 'class_weight': 'balanced', 'solver': 'liblinear'},\n",
       "  {'C': 0.01, 'class_weight': 'balanced', 'solver': 'newton-cg'},\n",
       "  {'C': 0.01, 'class_weight': 'balanced', 'solver': 'lbfgs'},\n",
       "  {'C': 0.01, 'class_weight': 'balanced', 'solver': 'liblinear'},\n",
       "  {'C': 1, 'class_weight': 'balanced', 'solver': 'newton-cg'},\n",
       "  {'C': 1, 'class_weight': 'balanced', 'solver': 'lbfgs'},\n",
       "  {'C': 1, 'class_weight': 'balanced', 'solver': 'liblinear'},\n",
       "  {'C': 10, 'class_weight': 'balanced', 'solver': 'newton-cg'},\n",
       "  {'C': 10, 'class_weight': 'balanced', 'solver': 'lbfgs'},\n",
       "  {'C': 10, 'class_weight': 'balanced', 'solver': 'liblinear'},\n",
       "  {'C': 100, 'class_weight': 'balanced', 'solver': 'newton-cg'},\n",
       "  {'C': 100, 'class_weight': 'balanced', 'solver': 'lbfgs'},\n",
       "  {'C': 100, 'class_weight': 'balanced', 'solver': 'liblinear'}],\n",
       " 'split0_test_score': array([0.72109533, 0.72109533, 0.51521298, 0.7474645 , 0.7474645 ,\n",
       "        0.72109533, 0.7474645 , 0.7474645 , 0.7474645 , 0.7474645 ,\n",
       "        0.7474645 , 0.7474645 , 0.7474645 , 0.7474645 , 0.7474645 ]),\n",
       " 'split1_test_score': array([0.71399594, 0.71399594, 0.52636917, 0.7474645 , 0.7474645 ,\n",
       "        0.71399594, 0.7474645 , 0.7474645 , 0.7474645 , 0.7474645 ,\n",
       "        0.7474645 , 0.7474645 , 0.7474645 , 0.7474645 , 0.7474645 ]),\n",
       " 'split2_test_score': array([0.72515213, 0.72515213, 0.53955375, 0.7515213 , 0.7515213 ,\n",
       "        0.72515213, 0.7515213 , 0.7515213 , 0.7515213 , 0.7515213 ,\n",
       "        0.7515213 , 0.7515213 , 0.7515213 , 0.7515213 , 0.7515213 ]),\n",
       " 'split3_test_score': array([0.73732252, 0.73732252, 0.52839757, 0.76572008, 0.76572008,\n",
       "        0.73732252, 0.76572008, 0.76572008, 0.76572008, 0.76572008,\n",
       "        0.76572008, 0.76572008, 0.76572008, 0.76572008, 0.76572008]),\n",
       " 'split4_test_score': array([0.72718053, 0.72718053, 0.54868154, 0.73935091, 0.73935091,\n",
       "        0.73935091, 0.73935091, 0.73935091, 0.73935091, 0.73935091,\n",
       "        0.73935091, 0.73935091, 0.73935091, 0.73935091, 0.73935091]),\n",
       " 'mean_test_score': array([0.72494929, 0.72494929, 0.531643  , 0.75030426, 0.75030426,\n",
       "        0.72738337, 0.75030426, 0.75030426, 0.75030426, 0.75030426,\n",
       "        0.75030426, 0.75030426, 0.75030426, 0.75030426, 0.75030426]),\n",
       " 'std_test_score': array([0.00765435, 0.00765435, 0.01149942, 0.00866294, 0.00866294,\n",
       "        0.00965142, 0.00866294, 0.00866294, 0.00866294, 0.00866294,\n",
       "        0.00866294, 0.00866294, 0.00866294, 0.00866294, 0.00866294]),\n",
       " 'rank_test_score': array([13, 13, 15,  1,  1, 12,  1,  1,  1,  1,  1,  1,  1,  1,  1],\n",
       "       dtype=int32)}"
      ]
     },
     "execution_count": 32,
     "metadata": {},
     "output_type": "execute_result"
    }
   ],
   "source": [
    "search.cv_results_"
   ]
  },
  {
   "cell_type": "code",
   "execution_count": 33,
   "metadata": {
    "pycharm": {
     "name": "#%%\n"
    }
   },
   "outputs": [
    {
     "data": {
      "text/plain": [
       "array([[1.3514006 , 0.78768896, 0.58701812]])"
      ]
     },
     "execution_count": 33,
     "metadata": {},
     "output_type": "execute_result"
    }
   ],
   "source": [
    "search.best_estimator_.coef_"
   ]
  },
  {
   "cell_type": "code",
   "execution_count": 36,
   "metadata": {
    "pycharm": {
     "name": "#%%\n"
    }
   },
   "outputs": [
    {
     "data": {
      "text/plain": [
       "array([[2.02904262, 1.06523664, 0.65214068]])"
      ]
     },
     "execution_count": 36,
     "metadata": {},
     "output_type": "execute_result"
    }
   ],
   "source": [
    "lr.coef_"
   ]
  }
 ],
 "metadata": {
  "kernelspec": {
   "display_name": "Python 3",
   "language": "python",
   "name": "python3"
  },
  "language_info": {
   "codemirror_mode": {
    "name": "ipython",
    "version": 3
   },
   "file_extension": ".py",
   "mimetype": "text/x-python",
   "name": "python",
   "nbconvert_exporter": "python",
   "pygments_lexer": "ipython3",
   "version": "3.8.8"
  }
 },
 "nbformat": 4,
 "nbformat_minor": 1
}